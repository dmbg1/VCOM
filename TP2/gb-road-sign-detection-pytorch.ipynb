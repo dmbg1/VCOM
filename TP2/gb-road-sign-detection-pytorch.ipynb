{
 "cells": [
  {
   "cell_type": "code",
   "execution_count": 1,
   "id": "loved-alcohol",
   "metadata": {
    "execution": {
     "iopub.execute_input": "2021-06-11T14:10:01.911826Z",
     "iopub.status.busy": "2021-06-11T14:10:01.911219Z",
     "iopub.status.idle": "2021-06-11T14:10:04.211134Z",
     "shell.execute_reply": "2021-06-11T14:10:04.210162Z",
     "shell.execute_reply.started": "2021-06-03T07:45:52.127696Z"
    },
    "papermill": {
     "duration": 2.33805,
     "end_time": "2021-06-11T14:10:04.211308",
     "exception": false,
     "start_time": "2021-06-11T14:10:01.873258",
     "status": "completed"
    },
    "tags": []
   },
   "outputs": [],
   "source": [
    "import os\n",
    "import random\n",
    "import math\n",
    "from datetime import datetime\n",
    "from collections import Counter\n",
    "import pandas as pd\n",
    "import numpy as np\n",
    "\n",
    "import cv2\n",
    "from PIL import Image\n",
    "from pathlib import Path\n",
    "import matplotlib.pyplot as plt\n",
    "from matplotlib.patches import Rectangle\n",
    "from sklearn.model_selection import train_test_split\n",
    "import xml.etree.ElementTree as ET\n",
    "\n",
    "import torch\n",
    "from torch.utils.data import Dataset, DataLoader\n",
    "import torch.optim as optim\n",
    "import torch.nn as nn\n",
    "import torch.nn.functional as F\n",
    "from torchvision import models"
   ]
  },
  {
   "cell_type": "markdown",
   "id": "opponent-parking",
   "metadata": {
    "papermill": {
     "duration": 0.025272,
     "end_time": "2021-06-11T14:10:04.262217",
     "exception": false,
     "start_time": "2021-06-11T14:10:04.236945",
     "status": "completed"
    },
    "tags": []
   },
   "source": [
    "### Formulation of the problem\n",
    "\n",
    "For an image consisting of a road sign, predict the bounding box around the road sign and determine the type of road sign.\n",
    "These signs can belong to four different classes:\n",
    "* Traffic light\n",
    "* Stop\n",
    "* Speed ​​limit\n",
    "* Crosswalk\n",
    "\n",
    "This is called a multitasking learning task because it involves performing two tasks:\n",
    "1) regression to find the coordinates of the bounding box,\n",
    "2) classification to determine the type of road sign."
   ]
  },
  {
   "cell_type": "markdown",
   "id": "visible-teddy",
   "metadata": {
    "papermill": {
     "duration": 0.025176,
     "end_time": "2021-06-11T14:10:04.313002",
     "exception": false,
     "start_time": "2021-06-11T14:10:04.287826",
     "status": "completed"
    },
    "tags": []
   },
   "source": [
    "### Dataset\n",
    "\n",
    "It consists of 877 images. This is a rather unbalanced dataset, most of the images are in the rate limiting class, but since we are more focused on predicting the bounding box, we can ignore the imbalance."
   ]
  },
  {
   "cell_type": "markdown",
   "id": "educated-projection",
   "metadata": {
    "papermill": {
     "duration": 0.02525,
     "end_time": "2021-06-11T14:10:04.363548",
     "exception": false,
     "start_time": "2021-06-11T14:10:04.338298",
     "status": "completed"
    },
    "tags": []
   },
   "source": [
    "### Loading data\n",
    "\n",
    "Descriptions for each image are stored in separate XML files. Let's take the following steps to prepare data for training:\n",
    "* Walk through the annotations directory to get all the .xml files\n",
    "* Read the information we need from each .xml file using xml.etree.ElementTree\n",
    "* Create a dictionary containing filepath(path to image), width, height, (xmin , xmax , ymin , ymax) (bounding box's coordinates) and class and add the dictionary to the list.\n",
    "* Create a pandas dataframe using the list of dictionaries from the previous paragraph"
   ]
  },
  {
   "cell_type": "code",
   "execution_count": 2,
   "id": "widespread-limit",
   "metadata": {
    "execution": {
     "iopub.execute_input": "2021-06-11T14:10:04.424391Z",
     "iopub.status.busy": "2021-06-11T14:10:04.423461Z",
     "iopub.status.idle": "2021-06-11T14:10:04.426056Z",
     "shell.execute_reply": "2021-06-11T14:10:04.425635Z",
     "shell.execute_reply.started": "2021-06-03T07:45:54.348517Z"
    },
    "papermill": {
     "duration": 0.037266,
     "end_time": "2021-06-11T14:10:04.426179",
     "exception": false,
     "start_time": "2021-06-11T14:10:04.388913",
     "status": "completed"
    },
    "tags": []
   },
   "outputs": [],
   "source": [
    "images_path = Path('../input/road-sign-detection/images')\n",
    "anno_path = Path('../input/road-sign-detection/annotations')\n",
    "\n",
    "\n",
    "def filelist(root, file_type):\n",
    "    \"\"\"The function returns a fully qualified list of files in a directory.\"\"\"\n",
    "    return [os.path.join(directory_path, f) for directory_path, directory_name, \n",
    "            files in os.walk(root) for f in files if f.endswith(file_type)]\n",
    "\n",
    "\n",
    "def generate_train_df (anno_path):\n",
    "    annotations = filelist(anno_path, '.xml')\n",
    "    anno_list = []\n",
    "    for anno_path in annotations:\n",
    "        root = ET.parse(anno_path).getroot()\n",
    "        anno = {}\n",
    "        anno['filename'] = Path(str(images_path) + '/'+ root.find(\"./filename\").text)\n",
    "        anno['width'] = root.find(\"./size/width\").text\n",
    "        anno['height'] = root.find(\"./size/height\").text\n",
    "        anno['class'] = root.find(\"./object/name\").text\n",
    "        anno['xmin'] = int(root.find(\"./object/bndbox/xmin\").text)\n",
    "        anno['ymin'] = int(root.find(\"./object/bndbox/ymin\").text)\n",
    "        anno['xmax'] = int(root.find(\"./object/bndbox/xmax\").text)\n",
    "        anno['ymax'] = int(root.find(\"./object/bndbox/ymax\").text)\n",
    "        anno_list.append(anno)\n",
    "    return pd.DataFrame(anno_list)"
   ]
  },
  {
   "cell_type": "code",
   "execution_count": 3,
   "id": "secret-painting",
   "metadata": {
    "execution": {
     "iopub.execute_input": "2021-06-11T14:10:04.480952Z",
     "iopub.status.busy": "2021-06-11T14:10:04.480415Z",
     "iopub.status.idle": "2021-06-11T14:10:09.250479Z",
     "shell.execute_reply": "2021-06-11T14:10:09.249642Z",
     "shell.execute_reply.started": "2021-06-03T07:45:54.358946Z"
    },
    "papermill": {
     "duration": 4.798721,
     "end_time": "2021-06-11T14:10:09.250627",
     "exception": false,
     "start_time": "2021-06-11T14:10:04.451906",
     "status": "completed"
    },
    "tags": []
   },
   "outputs": [
    {
     "data": {
      "text/html": [
       "<div>\n",
       "<style scoped>\n",
       "    .dataframe tbody tr th:only-of-type {\n",
       "        vertical-align: middle;\n",
       "    }\n",
       "\n",
       "    .dataframe tbody tr th {\n",
       "        vertical-align: top;\n",
       "    }\n",
       "\n",
       "    .dataframe thead th {\n",
       "        text-align: right;\n",
       "    }\n",
       "</style>\n",
       "<table border=\"1\" class=\"dataframe\">\n",
       "  <thead>\n",
       "    <tr style=\"text-align: right;\">\n",
       "      <th></th>\n",
       "      <th>filename</th>\n",
       "      <th>width</th>\n",
       "      <th>height</th>\n",
       "      <th>class</th>\n",
       "      <th>xmin</th>\n",
       "      <th>ymin</th>\n",
       "      <th>xmax</th>\n",
       "      <th>ymax</th>\n",
       "    </tr>\n",
       "  </thead>\n",
       "  <tbody>\n",
       "    <tr>\n",
       "      <th>0</th>\n",
       "      <td>../input/road-sign-detection/images/road732.png</td>\n",
       "      <td>300</td>\n",
       "      <td>400</td>\n",
       "      <td>speedlimit</td>\n",
       "      <td>99</td>\n",
       "      <td>97</td>\n",
       "      <td>159</td>\n",
       "      <td>157</td>\n",
       "    </tr>\n",
       "    <tr>\n",
       "      <th>1</th>\n",
       "      <td>../input/road-sign-detection/images/road518.png</td>\n",
       "      <td>300</td>\n",
       "      <td>400</td>\n",
       "      <td>speedlimit</td>\n",
       "      <td>157</td>\n",
       "      <td>165</td>\n",
       "      <td>184</td>\n",
       "      <td>191</td>\n",
       "    </tr>\n",
       "    <tr>\n",
       "      <th>2</th>\n",
       "      <td>../input/road-sign-detection/images/road717.png</td>\n",
       "      <td>300</td>\n",
       "      <td>400</td>\n",
       "      <td>speedlimit</td>\n",
       "      <td>90</td>\n",
       "      <td>219</td>\n",
       "      <td>109</td>\n",
       "      <td>240</td>\n",
       "    </tr>\n",
       "    <tr>\n",
       "      <th>3</th>\n",
       "      <td>../input/road-sign-detection/images/road362.png</td>\n",
       "      <td>300</td>\n",
       "      <td>400</td>\n",
       "      <td>speedlimit</td>\n",
       "      <td>82</td>\n",
       "      <td>164</td>\n",
       "      <td>151</td>\n",
       "      <td>232</td>\n",
       "    </tr>\n",
       "    <tr>\n",
       "      <th>4</th>\n",
       "      <td>../input/road-sign-detection/images/road492.png</td>\n",
       "      <td>300</td>\n",
       "      <td>400</td>\n",
       "      <td>speedlimit</td>\n",
       "      <td>110</td>\n",
       "      <td>137</td>\n",
       "      <td>182</td>\n",
       "      <td>208</td>\n",
       "    </tr>\n",
       "    <tr>\n",
       "      <th>...</th>\n",
       "      <td>...</td>\n",
       "      <td>...</td>\n",
       "      <td>...</td>\n",
       "      <td>...</td>\n",
       "      <td>...</td>\n",
       "      <td>...</td>\n",
       "      <td>...</td>\n",
       "      <td>...</td>\n",
       "    </tr>\n",
       "    <tr>\n",
       "      <th>872</th>\n",
       "      <td>../input/road-sign-detection/images/road248.png</td>\n",
       "      <td>300</td>\n",
       "      <td>400</td>\n",
       "      <td>speedlimit</td>\n",
       "      <td>167</td>\n",
       "      <td>205</td>\n",
       "      <td>192</td>\n",
       "      <td>229</td>\n",
       "    </tr>\n",
       "    <tr>\n",
       "      <th>873</th>\n",
       "      <td>../input/road-sign-detection/images/road227.png</td>\n",
       "      <td>300</td>\n",
       "      <td>400</td>\n",
       "      <td>speedlimit</td>\n",
       "      <td>141</td>\n",
       "      <td>181</td>\n",
       "      <td>153</td>\n",
       "      <td>193</td>\n",
       "    </tr>\n",
       "    <tr>\n",
       "      <th>874</th>\n",
       "      <td>../input/road-sign-detection/images/road660.png</td>\n",
       "      <td>300</td>\n",
       "      <td>400</td>\n",
       "      <td>speedlimit</td>\n",
       "      <td>132</td>\n",
       "      <td>189</td>\n",
       "      <td>193</td>\n",
       "      <td>250</td>\n",
       "    </tr>\n",
       "    <tr>\n",
       "      <th>875</th>\n",
       "      <td>../input/road-sign-detection/images/road620.png</td>\n",
       "      <td>300</td>\n",
       "      <td>400</td>\n",
       "      <td>speedlimit</td>\n",
       "      <td>123</td>\n",
       "      <td>222</td>\n",
       "      <td>150</td>\n",
       "      <td>250</td>\n",
       "    </tr>\n",
       "    <tr>\n",
       "      <th>876</th>\n",
       "      <td>../input/road-sign-detection/images/road701.png</td>\n",
       "      <td>300</td>\n",
       "      <td>400</td>\n",
       "      <td>speedlimit</td>\n",
       "      <td>235</td>\n",
       "      <td>117</td>\n",
       "      <td>300</td>\n",
       "      <td>190</td>\n",
       "    </tr>\n",
       "  </tbody>\n",
       "</table>\n",
       "<p>877 rows × 8 columns</p>\n",
       "</div>"
      ],
      "text/plain": [
       "                                            filename width height       class  \\\n",
       "0    ../input/road-sign-detection/images/road732.png   300    400  speedlimit   \n",
       "1    ../input/road-sign-detection/images/road518.png   300    400  speedlimit   \n",
       "2    ../input/road-sign-detection/images/road717.png   300    400  speedlimit   \n",
       "3    ../input/road-sign-detection/images/road362.png   300    400  speedlimit   \n",
       "4    ../input/road-sign-detection/images/road492.png   300    400  speedlimit   \n",
       "..                                               ...   ...    ...         ...   \n",
       "872  ../input/road-sign-detection/images/road248.png   300    400  speedlimit   \n",
       "873  ../input/road-sign-detection/images/road227.png   300    400  speedlimit   \n",
       "874  ../input/road-sign-detection/images/road660.png   300    400  speedlimit   \n",
       "875  ../input/road-sign-detection/images/road620.png   300    400  speedlimit   \n",
       "876  ../input/road-sign-detection/images/road701.png   300    400  speedlimit   \n",
       "\n",
       "     xmin  ymin  xmax  ymax  \n",
       "0      99    97   159   157  \n",
       "1     157   165   184   191  \n",
       "2      90   219   109   240  \n",
       "3      82   164   151   232  \n",
       "4     110   137   182   208  \n",
       "..    ...   ...   ...   ...  \n",
       "872   167   205   192   229  \n",
       "873   141   181   153   193  \n",
       "874   132   189   193   250  \n",
       "875   123   222   150   250  \n",
       "876   235   117   300   190  \n",
       "\n",
       "[877 rows x 8 columns]"
      ]
     },
     "execution_count": 3,
     "metadata": {},
     "output_type": "execute_result"
    }
   ],
   "source": [
    "df_train = generate_train_df(anno_path)"
   ]
  },
  {
   "cell_type": "code",
   "execution_count": 4,
   "id": "hawaiian-recipient",
   "metadata": {
    "execution": {
     "iopub.execute_input": "2021-06-11T14:10:09.312471Z",
     "iopub.status.busy": "2021-06-11T14:10:09.311928Z",
     "iopub.status.idle": "2021-06-11T14:10:09.317400Z",
     "shell.execute_reply": "2021-06-11T14:10:09.317766Z",
     "shell.execute_reply.started": "2021-06-03T07:45:59.668769Z"
    },
    "papermill": {
     "duration": 0.040349,
     "end_time": "2021-06-11T14:10:09.317928",
     "exception": false,
     "start_time": "2021-06-11T14:10:09.277579",
     "status": "completed"
    },
    "tags": []
   },
   "outputs": [
    {
     "data": {
      "text/plain": [
       "speedlimit      652\n",
       "crosswalk        88\n",
       "stop             76\n",
       "trafficlight     61\n",
       "Name: class, dtype: int64"
      ]
     },
     "execution_count": 4,
     "metadata": {},
     "output_type": "execute_result"
    }
   ],
   "source": [
    "df_train['class'].value_counts()"
   ]
  },
  {
   "cell_type": "markdown",
   "id": "geological-austin",
   "metadata": {
    "papermill": {
     "duration": 0.025919,
     "end_time": "2021-06-11T14:10:09.370260",
     "exception": false,
     "start_time": "2021-06-11T14:10:09.344341",
     "status": "completed"
    },
    "tags": []
   },
   "source": [
    "\n",
    "Let's convert our labels into classes:"
   ]
  },
  {
   "cell_type": "code",
   "execution_count": 5,
   "id": "drawn-breakdown",
   "metadata": {
    "execution": {
     "iopub.execute_input": "2021-06-11T14:10:09.438668Z",
     "iopub.status.busy": "2021-06-11T14:10:09.437919Z",
     "iopub.status.idle": "2021-06-11T14:10:09.443011Z",
     "shell.execute_reply": "2021-06-11T14:10:09.442575Z",
     "shell.execute_reply.started": "2021-06-03T07:45:59.691288Z"
    },
    "papermill": {
     "duration": 0.046495,
     "end_time": "2021-06-11T14:10:09.443130",
     "exception": false,
     "start_time": "2021-06-11T14:10:09.396635",
     "status": "completed"
    },
    "tags": []
   },
   "outputs": [
    {
     "name": "stdout",
     "output_type": "stream",
     "text": [
      "(877, 8)\n"
     ]
    },
    {
     "data": {
      "text/html": [
       "<div>\n",
       "<style scoped>\n",
       "    .dataframe tbody tr th:only-of-type {\n",
       "        vertical-align: middle;\n",
       "    }\n",
       "\n",
       "    .dataframe tbody tr th {\n",
       "        vertical-align: top;\n",
       "    }\n",
       "\n",
       "    .dataframe thead th {\n",
       "        text-align: right;\n",
       "    }\n",
       "</style>\n",
       "<table border=\"1\" class=\"dataframe\">\n",
       "  <thead>\n",
       "    <tr style=\"text-align: right;\">\n",
       "      <th></th>\n",
       "      <th>filename</th>\n",
       "      <th>width</th>\n",
       "      <th>height</th>\n",
       "      <th>class</th>\n",
       "      <th>xmin</th>\n",
       "      <th>ymin</th>\n",
       "      <th>xmax</th>\n",
       "      <th>ymax</th>\n",
       "    </tr>\n",
       "  </thead>\n",
       "  <tbody>\n",
       "    <tr>\n",
       "      <th>0</th>\n",
       "      <td>../input/road-sign-detection/images/road732.png</td>\n",
       "      <td>300</td>\n",
       "      <td>400</td>\n",
       "      <td>0</td>\n",
       "      <td>99</td>\n",
       "      <td>97</td>\n",
       "      <td>159</td>\n",
       "      <td>157</td>\n",
       "    </tr>\n",
       "    <tr>\n",
       "      <th>1</th>\n",
       "      <td>../input/road-sign-detection/images/road518.png</td>\n",
       "      <td>300</td>\n",
       "      <td>400</td>\n",
       "      <td>0</td>\n",
       "      <td>157</td>\n",
       "      <td>165</td>\n",
       "      <td>184</td>\n",
       "      <td>191</td>\n",
       "    </tr>\n",
       "    <tr>\n",
       "      <th>2</th>\n",
       "      <td>../input/road-sign-detection/images/road717.png</td>\n",
       "      <td>300</td>\n",
       "      <td>400</td>\n",
       "      <td>0</td>\n",
       "      <td>90</td>\n",
       "      <td>219</td>\n",
       "      <td>109</td>\n",
       "      <td>240</td>\n",
       "    </tr>\n",
       "    <tr>\n",
       "      <th>3</th>\n",
       "      <td>../input/road-sign-detection/images/road362.png</td>\n",
       "      <td>300</td>\n",
       "      <td>400</td>\n",
       "      <td>0</td>\n",
       "      <td>82</td>\n",
       "      <td>164</td>\n",
       "      <td>151</td>\n",
       "      <td>232</td>\n",
       "    </tr>\n",
       "    <tr>\n",
       "      <th>4</th>\n",
       "      <td>../input/road-sign-detection/images/road492.png</td>\n",
       "      <td>300</td>\n",
       "      <td>400</td>\n",
       "      <td>0</td>\n",
       "      <td>110</td>\n",
       "      <td>137</td>\n",
       "      <td>182</td>\n",
       "      <td>208</td>\n",
       "    </tr>\n",
       "  </tbody>\n",
       "</table>\n",
       "</div>"
      ],
      "text/plain": [
       "                                          filename width height  class  xmin  \\\n",
       "0  ../input/road-sign-detection/images/road732.png   300    400      0    99   \n",
       "1  ../input/road-sign-detection/images/road518.png   300    400      0   157   \n",
       "2  ../input/road-sign-detection/images/road717.png   300    400      0    90   \n",
       "3  ../input/road-sign-detection/images/road362.png   300    400      0    82   \n",
       "4  ../input/road-sign-detection/images/road492.png   300    400      0   110   \n",
       "\n",
       "   ymin  xmax  ymax  \n",
       "0    97   159   157  \n",
       "1   165   184   191  \n",
       "2   219   109   240  \n",
       "3   164   151   232  \n",
       "4   137   182   208  "
      ]
     },
     "execution_count": 5,
     "metadata": {},
     "output_type": "execute_result"
    }
   ],
   "source": [
    "class_dict = {'speedlimit': 0, 'stop': 1, 'crosswalk': 2, 'trafficlight': 3}\n",
    "df_train['class'] = df_train['class'].apply(lambda x:  class_dict[x])\n",
    "\n",
    "print(df_train.shape)\n",
    "df_train.head()"
   ]
  },
  {
   "cell_type": "markdown",
   "id": "identified-springfield",
   "metadata": {
    "papermill": {
     "duration": 0.027295,
     "end_time": "2021-06-11T14:10:09.497625",
     "exception": false,
     "start_time": "2021-06-11T14:10:09.470330",
     "status": "completed"
    },
    "tags": []
   },
   "source": [
    "### Resizing images and bounding boxes\n",
    "\n",
    "Because images need to be the same size to train a computer vision model, we need to resize our images and their corresponding bounding boxes. Resizing an image is easy, but resizing a bounding box is a little trickier because each rectangle depends on the image and its dimensions.\n",
    "\n",
    "Here is the basic idea:\n",
    "\n",
    "Let's transform the bounding box into an image (mask) of the same size as the image corresponding to this rectangle. This mask will simply have 0 for the background and 1 for the area covered by the bounding box.\n",
    "\n",
    "Let's read the image first:"
   ]
  },
  {
   "cell_type": "code",
   "execution_count": 6,
   "id": "different-newman",
   "metadata": {
    "execution": {
     "iopub.execute_input": "2021-06-11T14:10:09.562295Z",
     "iopub.status.busy": "2021-06-11T14:10:09.561557Z",
     "iopub.status.idle": "2021-06-11T14:10:09.564799Z",
     "shell.execute_reply": "2021-06-11T14:10:09.565187Z",
     "shell.execute_reply.started": "2021-06-03T07:45:59.718079Z"
    },
    "papermill": {
     "duration": 0.040529,
     "end_time": "2021-06-11T14:10:09.565329",
     "exception": false,
     "start_time": "2021-06-11T14:10:09.524800",
     "status": "completed"
    },
    "tags": []
   },
   "outputs": [],
   "source": [
    "def read_image(path):\n",
    "    return cv2.cvtColor(cv2.imread(str(path)), cv2.COLOR_BGR2RGB)\n",
    "\n",
    "\n",
    "def create_mask(bb, x):\n",
    "    \"\"\"Create a mask for the bounding box of the same shape as the image\"\"\"\n",
    "    rows,cols,*_ = x.shape\n",
    "    Y = np.zeros((rows, cols))\n",
    "    bb = bb.astype(np.int)\n",
    "    Y[bb[0]:bb[2], bb[1]:bb[3]] = 1.\n",
    "    return Y\n",
    "\n",
    "\n",
    "def mask_to_bb(Y):\n",
    "    \"\"\"Convert the Y mask to a bounding box, taking 0 as the background non-null object \"\"\"\n",
    "    cols, rows = np.nonzero(Y)\n",
    "    if len(cols) == 0: \n",
    "        return np.zeros(4, dtype=np.float32)\n",
    "    top_row = np.min(rows)\n",
    "    left_col = np.min(cols)\n",
    "    bottom_row = np.max(rows)\n",
    "    right_col = np.max(cols)\n",
    "    return np.array([left_col, top_row, right_col, bottom_row], dtype=np.float32)\n",
    "\n",
    "\n",
    "def create_bb_array(x):\n",
    "    \"\"\"Generate bounding box'a array from train_df column\"\"\"\n",
    "    return np.array([x[5],x[4],x[7],x[6]])\n",
    "\n",
    "\n",
    "def resize_image_bb(read_path, write_path, bb, sz):\n",
    "    \"\"\"Resize the image and its bounding box and write the image to a new path\"\"\"\n",
    "    im = read_image(read_path)\n",
    "    im_resized = cv2.resize(im, (sz, sz))\n",
    "    Y_resized = cv2.resize(create_mask(bb, im), (sz, sz))\n",
    "    new_path = str(write_path/read_path.parts[-1])\n",
    "    cv2.imwrite(new_path, cv2.cvtColor(im_resized, cv2.COLOR_RGB2BGR))\n",
    "    return new_path, mask_to_bb(Y_resized)"
   ]
  },
  {
   "cell_type": "markdown",
   "id": "medieval-funds",
   "metadata": {
    "papermill": {
     "duration": 0.026848,
     "end_time": "2021-06-11T14:10:09.618898",
     "exception": false,
     "start_time": "2021-06-11T14:10:09.592050",
     "status": "completed"
    },
    "tags": []
   },
   "source": [
    "\n",
    "Let's apply all our written functions:"
   ]
  },
  {
   "cell_type": "code",
   "execution_count": 7,
   "id": "worldwide-citation",
   "metadata": {
    "execution": {
     "iopub.execute_input": "2021-06-11T14:10:09.679049Z",
     "iopub.status.busy": "2021-06-11T14:10:09.677274Z",
     "iopub.status.idle": "2021-06-11T14:10:09.679778Z",
     "shell.execute_reply": "2021-06-11T14:10:09.680194Z",
     "shell.execute_reply.started": "2021-06-03T07:45:59.736771Z"
    },
    "papermill": {
     "duration": 0.033418,
     "end_time": "2021-06-11T14:10:09.680333",
     "exception": false,
     "start_time": "2021-06-11T14:10:09.646915",
     "status": "completed"
    },
    "tags": []
   },
   "outputs": [],
   "source": [
    "IM_SIZE = 300"
   ]
  },
  {
   "cell_type": "code",
   "execution_count": 8,
   "id": "static-spice",
   "metadata": {
    "execution": {
     "iopub.execute_input": "2021-06-11T14:10:09.739775Z",
     "iopub.status.busy": "2021-06-11T14:10:09.739243Z",
     "iopub.status.idle": "2021-06-11T14:10:31.376413Z",
     "shell.execute_reply": "2021-06-11T14:10:31.375919Z",
     "shell.execute_reply.started": "2021-06-03T07:45:59.748856Z"
    },
    "papermill": {
     "duration": 21.669546,
     "end_time": "2021-06-11T14:10:31.376543",
     "exception": false,
     "start_time": "2021-06-11T14:10:09.706997",
     "status": "completed"
    },
    "tags": []
   },
   "outputs": [
    {
     "data": {
      "text/html": [
       "<div>\n",
       "<style scoped>\n",
       "    .dataframe tbody tr th:only-of-type {\n",
       "        vertical-align: middle;\n",
       "    }\n",
       "\n",
       "    .dataframe tbody tr th {\n",
       "        vertical-align: top;\n",
       "    }\n",
       "\n",
       "    .dataframe thead th {\n",
       "        text-align: right;\n",
       "    }\n",
       "</style>\n",
       "<table border=\"1\" class=\"dataframe\">\n",
       "  <thead>\n",
       "    <tr style=\"text-align: right;\">\n",
       "      <th></th>\n",
       "      <th>filename</th>\n",
       "      <th>width</th>\n",
       "      <th>height</th>\n",
       "      <th>class</th>\n",
       "      <th>xmin</th>\n",
       "      <th>ymin</th>\n",
       "      <th>xmax</th>\n",
       "      <th>ymax</th>\n",
       "      <th>new_path</th>\n",
       "      <th>new_bb</th>\n",
       "    </tr>\n",
       "  </thead>\n",
       "  <tbody>\n",
       "    <tr>\n",
       "      <th>0</th>\n",
       "      <td>../input/road-sign-detection/images/road732.png</td>\n",
       "      <td>300</td>\n",
       "      <td>400</td>\n",
       "      <td>0</td>\n",
       "      <td>99</td>\n",
       "      <td>97</td>\n",
       "      <td>159</td>\n",
       "      <td>157</td>\n",
       "      <td>images_resized/road732.png</td>\n",
       "      <td>[72.0, 99.0, 117.0, 158.0]</td>\n",
       "    </tr>\n",
       "    <tr>\n",
       "      <th>1</th>\n",
       "      <td>../input/road-sign-detection/images/road518.png</td>\n",
       "      <td>300</td>\n",
       "      <td>400</td>\n",
       "      <td>0</td>\n",
       "      <td>157</td>\n",
       "      <td>165</td>\n",
       "      <td>184</td>\n",
       "      <td>191</td>\n",
       "      <td>images_resized/road518.png</td>\n",
       "      <td>[123.0, 157.0, 143.0, 183.0]</td>\n",
       "    </tr>\n",
       "    <tr>\n",
       "      <th>2</th>\n",
       "      <td>../input/road-sign-detection/images/road717.png</td>\n",
       "      <td>300</td>\n",
       "      <td>400</td>\n",
       "      <td>0</td>\n",
       "      <td>90</td>\n",
       "      <td>219</td>\n",
       "      <td>109</td>\n",
       "      <td>240</td>\n",
       "      <td>images_resized/road717.png</td>\n",
       "      <td>[164.0, 90.0, 179.0, 108.0]</td>\n",
       "    </tr>\n",
       "    <tr>\n",
       "      <th>3</th>\n",
       "      <td>../input/road-sign-detection/images/road362.png</td>\n",
       "      <td>300</td>\n",
       "      <td>400</td>\n",
       "      <td>0</td>\n",
       "      <td>82</td>\n",
       "      <td>164</td>\n",
       "      <td>151</td>\n",
       "      <td>232</td>\n",
       "      <td>images_resized/road362.png</td>\n",
       "      <td>[123.0, 82.0, 173.0, 150.0]</td>\n",
       "    </tr>\n",
       "    <tr>\n",
       "      <th>4</th>\n",
       "      <td>../input/road-sign-detection/images/road492.png</td>\n",
       "      <td>300</td>\n",
       "      <td>400</td>\n",
       "      <td>0</td>\n",
       "      <td>110</td>\n",
       "      <td>137</td>\n",
       "      <td>182</td>\n",
       "      <td>208</td>\n",
       "      <td>images_resized/road492.png</td>\n",
       "      <td>[102.0, 110.0, 155.0, 181.0]</td>\n",
       "    </tr>\n",
       "  </tbody>\n",
       "</table>\n",
       "</div>"
      ],
      "text/plain": [
       "                                          filename width height  class  xmin  \\\n",
       "0  ../input/road-sign-detection/images/road732.png   300    400      0    99   \n",
       "1  ../input/road-sign-detection/images/road518.png   300    400      0   157   \n",
       "2  ../input/road-sign-detection/images/road717.png   300    400      0    90   \n",
       "3  ../input/road-sign-detection/images/road362.png   300    400      0    82   \n",
       "4  ../input/road-sign-detection/images/road492.png   300    400      0   110   \n",
       "\n",
       "   ymin  xmax  ymax                    new_path                        new_bb  \n",
       "0    97   159   157  images_resized/road732.png    [72.0, 99.0, 117.0, 158.0]  \n",
       "1   165   184   191  images_resized/road518.png  [123.0, 157.0, 143.0, 183.0]  \n",
       "2   219   109   240  images_resized/road717.png   [164.0, 90.0, 179.0, 108.0]  \n",
       "3   164   151   232  images_resized/road362.png   [123.0, 82.0, 173.0, 150.0]  \n",
       "4   137   182   208  images_resized/road492.png  [102.0, 110.0, 155.0, 181.0]  "
      ]
     },
     "execution_count": 8,
     "metadata": {},
     "output_type": "execute_result"
    }
   ],
   "source": [
    "new_paths = []\n",
    "new_bbs = []\n",
    "train_path_resized = Path('./images_resized')\n",
    "Path.mkdir(train_path_resized, exist_ok=True)\n",
    "\n",
    "\n",
    "for index, row in df_train.iterrows():\n",
    "    new_path,new_bb = resize_image_bb(row['filename'], train_path_resized, create_bb_array(row.values), IM_SIZE)\n",
    "    new_paths.append(new_path)\n",
    "    new_bbs.append(new_bb)\n",
    "    \n",
    "    \n",
    "df_train['new_path'] = new_paths\n",
    "df_train['new_bb'] = new_bbs\n",
    "\n",
    "df_train.head()"
   ]
  },
  {
   "cell_type": "markdown",
   "id": "duplicate-penguin",
   "metadata": {
    "papermill": {
     "duration": 0.029477,
     "end_time": "2021-06-11T14:10:31.437328",
     "exception": false,
     "start_time": "2021-06-11T14:10:31.407851",
     "status": "completed"
    },
    "tags": []
   },
   "source": [
    "\n",
    "### An example of the resulting sample\n"
   ]
  },
  {
   "cell_type": "code",
   "execution_count": 9,
   "id": "multiple-oracle",
   "metadata": {
    "execution": {
     "iopub.execute_input": "2021-06-11T14:10:31.500910Z",
     "iopub.status.busy": "2021-06-11T14:10:31.500133Z",
     "iopub.status.idle": "2021-06-11T14:10:31.736139Z",
     "shell.execute_reply": "2021-06-11T14:10:31.736576Z",
     "shell.execute_reply.started": "2021-06-03T07:46:22.161443Z"
    },
    "papermill": {
     "duration": 0.270419,
     "end_time": "2021-06-11T14:10:31.736726",
     "exception": false,
     "start_time": "2021-06-11T14:10:31.466307",
     "status": "completed"
    },
    "tags": []
   },
   "outputs": [
    {
     "name": "stdout",
     "output_type": "stream",
     "text": [
      "(225, 400, 3)\n"
     ]
    },
    {
     "data": {
      "text/plain": [
       "<matplotlib.image.AxesImage at 0x7ff3a75e8450>"
      ]
     },
     "execution_count": 9,
     "metadata": {},
     "output_type": "execute_result"
    },
    {
     "data": {
      "image/png": "[encoded data removed]",
      "text/plain": [
       "<Figure size 432x288 with 1 Axes>"
      ]
     },
     "metadata": {
      "needs_background": "light"
     },
     "output_type": "display_data"
    }
   ],
   "source": [
    "im = cv2.imread(str(df_train.values[58][0]))\n",
    "bb = create_bb_array(df_train.values[58])\n",
    "print(im.shape)\n",
    "\n",
    "Y = create_mask(bb, im)\n",
    "mask_to_bb(Y)\n",
    "\n",
    "plt.imshow(im)"
   ]
  },
  {
   "cell_type": "code",
   "execution_count": 10,
   "id": "basic-medicaid",
   "metadata": {
    "execution": {
     "iopub.execute_input": "2021-06-11T14:10:31.821446Z",
     "iopub.status.busy": "2021-06-11T14:10:31.820609Z",
     "iopub.status.idle": "2021-06-11T14:10:31.944980Z",
     "shell.execute_reply": "2021-06-11T14:10:31.945387Z",
     "shell.execute_reply.started": "2021-06-03T07:46:22.371235Z"
    },
    "papermill": {
     "duration": 0.177067,
     "end_time": "2021-06-11T14:10:31.945530",
     "exception": false,
     "start_time": "2021-06-11T14:10:31.768463",
     "status": "completed"
    },
    "tags": []
   },
   "outputs": [
    {
     "data": {
      "text/plain": [
       "<matplotlib.image.AxesImage at 0x7ff3a5388a10>"
      ]
     },
     "execution_count": 10,
     "metadata": {},
     "output_type": "execute_result"
    },
    {
     "data": {
      "image/png": "[encoded data removed]",
      "text/plain": [
       "<Figure size 432x288 with 1 Axes>"
      ]
     },
     "metadata": {
      "needs_background": "light"
     },
     "output_type": "display_data"
    }
   ],
   "source": [
    "plt.imshow(Y, cmap='gray')"
   ]
  },
  {
   "cell_type": "markdown",
   "id": "hydraulic-riverside",
   "metadata": {
    "papermill": {
     "duration": 0.032691,
     "end_time": "2021-06-11T14:10:32.010379",
     "exception": false,
     "start_time": "2021-06-11T14:10:31.977688",
     "status": "completed"
    },
    "tags": []
   },
   "source": [
    "### Data augmentation\n",
    "\n",
    "Data augmentation is a technique to better generalize our model by generating new training images using different variants of existing images. Our current training set only has 800 images, so data augmentation is very important to keep our model from overfitting.\n",
    "For this task, we will use flip, rotate, center crop and random crop.\n",
    "\n",
    "The only thing to remember here is to make sure that the bounding box also transforms in the same way as the image. To do this, we follow the same approach as resizing - we transform the bounding box into a mask, apply the same transformations to the mask as the original image, and extract the coordinates of the bounding box."
   ]
  },
  {
   "cell_type": "code",
   "execution_count": 11,
   "id": "center-elimination",
   "metadata": {
    "execution": {
     "iopub.execute_input": "2021-06-11T14:10:32.092251Z",
     "iopub.status.busy": "2021-06-11T14:10:32.090706Z",
     "iopub.status.idle": "2021-06-11T14:10:32.093201Z",
     "shell.execute_reply": "2021-06-11T14:10:32.093677Z",
     "shell.execute_reply.started": "2021-06-03T08:15:03.929253Z"
    },
    "papermill": {
     "duration": 0.051449,
     "end_time": "2021-06-11T14:10:32.093875",
     "exception": false,
     "start_time": "2021-06-11T14:10:32.042426",
     "status": "completed"
    },
    "tags": []
   },
   "outputs": [],
   "source": [
    "# Вырезаем кусок с изображения\n",
    "def crop(im, r, c, target_r, target_c): \n",
    "    return im[r:r+target_r, c:c+target_c]\n",
    "\n",
    "# Центральное вырезание \n",
    "def center_crop(x, r_pix=8):\n",
    "    r, c,*_ = x.shape\n",
    "    c_pix = round(r_pix*c/r)\n",
    "    return crop(x, r_pix, c_pix, r-2*r_pix, c-2*c_pix)\n",
    "\n",
    "def rotate_cv(im, deg, y=False, mode=cv2.BORDER_REFLECT):\n",
    "    \"\"\"Rotating our image\"\"\"\n",
    "    r,c,*_ = im.shape\n",
    "    M = cv2.getRotationMatrix2D((c/2,r/2),deg,1)\n",
    "    if y:\n",
    "        return cv2.warpAffine(im, M, (c, r), borderMode=cv2.BORDER_CONSTANT)\n",
    "    return cv2.warpAffine(im, M, (c, r), borderMode=mode, flags=cv2.WARP_FILL_OUTLIERS)\n",
    "\n",
    "def random_cropXY(x, Y, r_pix=8):\n",
    "    \"\"\"Returns a random cut\"\"\"\n",
    "    r, c,*_ = x.shape\n",
    "    c_pix = round(r_pix * c/r)\n",
    "    rand_r = random.uniform(0, 1)\n",
    "    rand_c = random.uniform(0, 1)\n",
    "    start_r = np.floor(2 * rand_r * r_pix).astype(int)\n",
    "    start_c = np.floor(2 * rand_c * c_pix).astype(int)\n",
    "    xx = crop(x, start_r, start_c, r - 2*r_pix, c - 2*c_pix)\n",
    "    YY = crop(Y, start_r, start_c, r - 2*r_pix, c - 2*c_pix)\n",
    "    return xx, YY\n",
    "\n",
    "# Трансформируем нашу картинку \n",
    "def transformsXY(path, bb, is_transforms):\n",
    "    x = cv2.imread(str(path)).astype(np.float32)\n",
    "    x = cv2.cvtColor(x, cv2.COLOR_BGR2RGB) / 255\n",
    "    Y = create_mask(bb, x)\n",
    "    if is_transforms:\n",
    "        rdeg = (np.random.random()-.50) * 20\n",
    "        x = rotate_cv(x, rdeg)\n",
    "        Y = rotate_cv(Y, rdeg, y=True)\n",
    "        if np.random.random() > 0.5: \n",
    "            x = np.fliplr(x).copy()\n",
    "            Y = np.fliplr(Y).copy()\n",
    "        x, Y = random_cropXY(x, Y)\n",
    "    else:\n",
    "        x, Y = center_crop(x), center_crop(Y)\n",
    "    return x, mask_to_bb(Y)\n",
    "\n",
    "def create_corner_rect(bb, color='red'):\n",
    "    bb = np.array(bb, dtype=np.float32)\n",
    "    return plt.Rectangle((bb[1], bb[0]), bb[3]-bb[1], bb[2]-bb[0], color=color,\n",
    "                         fill=False, lw=3)\n",
    "\n",
    "def show_corner_bb(im, bb):\n",
    "    plt.imshow(im)\n",
    "    plt.gca().add_patch(create_corner_rect(bb))"
   ]
  },
  {
   "cell_type": "markdown",
   "id": "reliable-boutique",
   "metadata": {
    "papermill": {
     "duration": 0.03179,
     "end_time": "2021-06-11T14:10:32.157336",
     "exception": false,
     "start_time": "2021-06-11T14:10:32.125546",
     "status": "completed"
    },
    "tags": []
   },
   "source": [
    "### Image example\n",
    "\n",
    "Original:\n",
    "\n"
   ]
  },
  {
   "cell_type": "code",
   "execution_count": 12,
   "id": "german-destiny",
   "metadata": {
    "execution": {
     "iopub.execute_input": "2021-06-11T14:10:32.226148Z",
     "iopub.status.busy": "2021-06-11T14:10:32.225371Z",
     "iopub.status.idle": "2021-06-11T14:10:32.369460Z",
     "shell.execute_reply": "2021-06-11T14:10:32.369869Z",
     "shell.execute_reply.started": "2021-06-03T08:15:04.615757Z"
    },
    "papermill": {
     "duration": 0.181258,
     "end_time": "2021-06-11T14:10:32.370014",
     "exception": false,
     "start_time": "2021-06-11T14:10:32.188756",
     "status": "completed"
    },
    "tags": []
   },
   "outputs": [
    {
     "name": "stdout",
     "output_type": "stream",
     "text": [
      "images_resized/road856.png\n"
     ]
    },
    {
     "data": {
      "image/png": "[encoded data removed]",
      "text/plain": [
       "<Figure size 432x288 with 1 Axes>"
      ]
     },
     "metadata": {
      "needs_background": "light"
     },
     "output_type": "display_data"
    }
   ],
   "source": [
    "number = 45\n",
    "im = cv2.imread(str(df_train['new_path'].values[number]))\n",
    "print(str(df_train.values[number][8]))\n",
    "im = cv2.cvtColor(im, cv2.COLOR_BGR2RGB)\n",
    "show_corner_bb(im, df_train['new_bb'].values[number])"
   ]
  },
  {
   "cell_type": "markdown",
   "id": "greater-america",
   "metadata": {
    "papermill": {
     "duration": 0.03411,
     "end_time": "2021-06-11T14:10:32.439092",
     "exception": false,
     "start_time": "2021-06-11T14:10:32.404982",
     "status": "completed"
    },
    "tags": []
   },
   "source": [
    "\n",
    "After transformation:"
   ]
  },
  {
   "cell_type": "code",
   "execution_count": 13,
   "id": "presidential-limitation",
   "metadata": {
    "execution": {
     "iopub.execute_input": "2021-06-11T14:10:32.513390Z",
     "iopub.status.busy": "2021-06-11T14:10:32.512478Z",
     "iopub.status.idle": "2021-06-11T14:10:32.671647Z",
     "shell.execute_reply": "2021-06-11T14:10:32.672072Z",
     "shell.execute_reply.started": "2021-06-03T08:15:05.509721Z"
    },
    "papermill": {
     "duration": 0.198623,
     "end_time": "2021-06-11T14:10:32.672230",
     "exception": false,
     "start_time": "2021-06-11T14:10:32.473607",
     "status": "completed"
    },
    "tags": []
   },
   "outputs": [
    {
     "data": {
      "image/png": "[encoded data removed]",
      "text/plain": [
       "<Figure size 432x288 with 1 Axes>"
      ]
     },
     "metadata": {
      "needs_background": "light"
     },
     "output_type": "display_data"
    }
   ],
   "source": [
    "im, bb = transformsXY(str(df_train['new_path'].values[number]),\n",
    "                      df_train['new_bb'].values[number],\n",
    "                      is_transforms=True)\n",
    "show_corner_bb(im, bb)"
   ]
  },
  {
   "cell_type": "markdown",
   "id": "upset-sauce",
   "metadata": {
    "papermill": {
     "duration": 0.041363,
     "end_time": "2021-06-11T14:10:32.751373",
     "exception": false,
     "start_time": "2021-06-11T14:10:32.710010",
     "status": "completed"
    },
    "tags": []
   },
   "source": [
    "### Dataset\n",
    "\n",
    "Now that we have our data additions, we can create a PyTorch dataset. We normalize the images with ImageNet statistics because we will use a pre-trained ResNet model and apply data augmentation on our dataset during training.\n"
   ]
  },
  {
   "cell_type": "code",
   "execution_count": 14,
   "id": "closing-tuition",
   "metadata": {
    "execution": {
     "iopub.execute_input": "2021-06-11T14:10:32.846141Z",
     "iopub.status.busy": "2021-06-11T14:10:32.843829Z",
     "iopub.status.idle": "2021-06-11T14:10:32.851335Z",
     "shell.execute_reply": "2021-06-11T14:10:32.850706Z",
     "shell.execute_reply.started": "2021-06-03T08:01:04.706149Z"
    },
    "papermill": {
     "duration": 0.056133,
     "end_time": "2021-06-11T14:10:32.851477",
     "exception": false,
     "start_time": "2021-06-11T14:10:32.795344",
     "status": "completed"
    },
    "tags": []
   },
   "outputs": [],
   "source": [
    "df_train = df_train.reset_index()\n",
    "X = df_train[['new_path', 'new_bb']]\n",
    "Y = df_train['class']\n",
    "X_train, X_val, y_train, y_val = train_test_split(X, Y, test_size=0.2, random_state=42)\n",
    "\n",
    "\n",
    "def normalize(im):\n",
    "    \"\"\"Нормализация данных с помощью статистики ImageNet\"\"\"\n",
    "    imagenet_stats = np.array([[0.485, 0.456, 0.406], [0.229, 0.224, 0.225]])\n",
    "    return (im - imagenet_stats[0]) / imagenet_stats[1]\n",
    "\n",
    "\n",
    "class RoadDataset(Dataset):\n",
    "    def __init__(self, paths, bb, y, is_transforms=False):\n",
    "        self.is_transforms = is_transforms\n",
    "        self.paths = paths.values\n",
    "        self.bb = bb.values\n",
    "        self.y = y.values\n",
    "        \n",
    "    def __len__(self):\n",
    "        return len(self.paths)\n",
    "    \n",
    "    def __getitem__(self, idx):\n",
    "        path = self.paths[idx]\n",
    "        y_class = self.y[idx]\n",
    "        x, y_bb = transformsXY(path, self.bb[idx], self.is_transforms)\n",
    "        x = normalize(x)\n",
    "        x = np.rollaxis(x, 2)\n",
    "        return x, y_class, y_bb\n",
    "\n",
    "    \n",
    "train_ds = RoadDataset(X_train['new_path'], X_train['new_bb'], y_train, is_transforms=True)\n",
    "valid_ds = RoadDataset(X_val['new_path'], X_val['new_bb'], y_val)"
   ]
  },
  {
   "cell_type": "markdown",
   "id": "naval-hungarian",
   "metadata": {
    "papermill": {
     "duration": 0.037206,
     "end_time": "2021-06-11T14:10:32.926271",
     "exception": false,
     "start_time": "2021-06-11T14:10:32.889065",
     "status": "completed"
    },
    "tags": []
   },
   "source": [
    "\n",
    "\n",
    "Let's load all this into our dataloader:\n"
   ]
  },
  {
   "cell_type": "code",
   "execution_count": 15,
   "id": "dietary-friendly",
   "metadata": {
    "execution": {
     "iopub.execute_input": "2021-06-11T14:10:33.006250Z",
     "iopub.status.busy": "2021-06-11T14:10:33.005654Z",
     "iopub.status.idle": "2021-06-11T14:10:33.009746Z",
     "shell.execute_reply": "2021-06-11T14:10:33.009296Z",
     "shell.execute_reply.started": "2021-06-03T08:15:10.700563Z"
    },
    "papermill": {
     "duration": 0.04571,
     "end_time": "2021-06-11T14:10:33.009881",
     "exception": false,
     "start_time": "2021-06-11T14:10:32.964171",
     "status": "completed"
    },
    "tags": []
   },
   "outputs": [],
   "source": [
    "batch_size = 16\n",
    "train_dl = DataLoader(train_ds, batch_size=batch_size, shuffle=True)\n",
    "valid_dl = DataLoader(valid_ds, batch_size=batch_size)"
   ]
  },
  {
   "cell_type": "markdown",
   "id": "settled-journalism",
   "metadata": {
    "papermill": {
     "duration": 0.038443,
     "end_time": "2021-06-11T14:10:33.085764",
     "exception": false,
     "start_time": "2021-06-11T14:10:33.047321",
     "status": "completed"
    },
    "tags": []
   },
   "source": [
    "### Model definition\n",
    "\n",
    "We will use a very simple pre-trained model [resNet-34](https://pytorch.org/vision/stable/models.html#torchvision.models.resnet34) as our model. Since we have two tasks here, there are two final layers - the bounding box regression and the image classifier.\n"
   ]
  },
  {
   "cell_type": "code",
   "execution_count": 16,
   "id": "editorial-japan",
   "metadata": {
    "execution": {
     "iopub.execute_input": "2021-06-11T14:10:33.167580Z",
     "iopub.status.busy": "2021-06-11T14:10:33.166886Z",
     "iopub.status.idle": "2021-06-11T14:10:33.170383Z",
     "shell.execute_reply": "2021-06-11T14:10:33.169945Z",
     "shell.execute_reply.started": "2021-06-03T08:15:11.990287Z"
    },
    "papermill": {
     "duration": 0.047501,
     "end_time": "2021-06-11T14:10:33.170498",
     "exception": false,
     "start_time": "2021-06-11T14:10:33.122997",
     "status": "completed"
    },
    "tags": []
   },
   "outputs": [],
   "source": [
    "class BB_model(nn.Module):\n",
    "    def __init__(self):\n",
    "        super(BB_model, self).__init__()\n",
    "        resnet = models.resnet34(pretrained=True)\n",
    "        layers = list(resnet.children())[:8]\n",
    "        self.features = nn.Sequential(*layers)\n",
    "        self.classifier = nn.Sequential(nn.BatchNorm1d(512), nn.Linear(512, 4))\n",
    "        self.bb = nn.Sequential(nn.BatchNorm1d(512), nn.Linear(512, 4))\n",
    "        \n",
    "    def forward(self, x):\n",
    "        x = self.features(x)\n",
    "        x = F.relu(x)\n",
    "        x = nn.AdaptiveAvgPool2d((1,1))(x)\n",
    "        x = x.view(x.shape[0], -1)\n",
    "        return self.classifier(x), self.bb(x)"
   ]
  },
  {
   "cell_type": "code",
   "execution_count": 17,
   "id": "exclusive-casino",
   "metadata": {
    "_kg_hide-output": true,
    "execution": {
     "iopub.execute_input": "2021-06-11T14:10:33.249762Z",
     "iopub.status.busy": "2021-06-11T14:10:33.249001Z",
     "iopub.status.idle": "2021-06-11T14:10:37.330378Z",
     "shell.execute_reply": "2021-06-11T14:10:37.330784Z",
     "shell.execute_reply.started": "2021-06-03T08:15:12.51179Z"
    },
    "papermill": {
     "duration": 4.123538,
     "end_time": "2021-06-11T14:10:37.330947",
     "exception": false,
     "start_time": "2021-06-11T14:10:33.207409",
     "status": "completed"
    },
    "tags": []
   },
   "outputs": [
    {
     "name": "stderr",
     "output_type": "stream",
     "text": [
      "Downloading: \"https://download.pytorch.org/models/resnet34-333f7ec4.pth\" to /root/.cache/torch/hub/checkpoints/resnet34-333f7ec4.pth\n"
     ]
    },
    {
     "data": {
      "application/vnd.jupyter.widget-view+json": {
       "model_id": "e182fcffe132468f93f164f0aaa3b026",
       "version_major": 2,
       "version_minor": 0
      },
      "text/plain": [
       "  0%|          | 0.00/83.3M [00:00<?, ?B/s]"
      ]
     },
     "metadata": {},
     "output_type": "display_data"
    },
    {
     "data": {
      "text/plain": [
       "[Conv2d(3, 64, kernel_size=(7, 7), stride=(2, 2), padding=(3, 3), bias=False),\n",
       " BatchNorm2d(64, eps=1e-05, momentum=0.1, affine=True, track_running_stats=True),\n",
       " ReLU(inplace=True),\n",
       " MaxPool2d(kernel_size=3, stride=2, padding=1, dilation=1, ceil_mode=False),\n",
       " Sequential(\n",
       "   (0): BasicBlock(\n",
       "     (conv1): Conv2d(64, 64, kernel_size=(3, 3), stride=(1, 1), padding=(1, 1), bias=False)\n",
       "     (bn1): BatchNorm2d(64, eps=1e-05, momentum=0.1, affine=True, track_running_stats=True)\n",
       "     (relu): ReLU(inplace=True)\n",
       "     (conv2): Conv2d(64, 64, kernel_size=(3, 3), stride=(1, 1), padding=(1, 1), bias=False)\n",
       "     (bn2): BatchNorm2d(64, eps=1e-05, momentum=0.1, affine=True, track_running_stats=True)\n",
       "   )\n",
       "   (1): BasicBlock(\n",
       "     (conv1): Conv2d(64, 64, kernel_size=(3, 3), stride=(1, 1), padding=(1, 1), bias=False)\n",
       "     (bn1): BatchNorm2d(64, eps=1e-05, momentum=0.1, affine=True, track_running_stats=True)\n",
       "     (relu): ReLU(inplace=True)\n",
       "     (conv2): Conv2d(64, 64, kernel_size=(3, 3), stride=(1, 1), padding=(1, 1), bias=False)\n",
       "     (bn2): BatchNorm2d(64, eps=1e-05, momentum=0.1, affine=True, track_running_stats=True)\n",
       "   )\n",
       "   (2): BasicBlock(\n",
       "     (conv1): Conv2d(64, 64, kernel_size=(3, 3), stride=(1, 1), padding=(1, 1), bias=False)\n",
       "     (bn1): BatchNorm2d(64, eps=1e-05, momentum=0.1, affine=True, track_running_stats=True)\n",
       "     (relu): ReLU(inplace=True)\n",
       "     (conv2): Conv2d(64, 64, kernel_size=(3, 3), stride=(1, 1), padding=(1, 1), bias=False)\n",
       "     (bn2): BatchNorm2d(64, eps=1e-05, momentum=0.1, affine=True, track_running_stats=True)\n",
       "   )\n",
       " ),\n",
       " Sequential(\n",
       "   (0): BasicBlock(\n",
       "     (conv1): Conv2d(64, 128, kernel_size=(3, 3), stride=(2, 2), padding=(1, 1), bias=False)\n",
       "     (bn1): BatchNorm2d(128, eps=1e-05, momentum=0.1, affine=True, track_running_stats=True)\n",
       "     (relu): ReLU(inplace=True)\n",
       "     (conv2): Conv2d(128, 128, kernel_size=(3, 3), stride=(1, 1), padding=(1, 1), bias=False)\n",
       "     (bn2): BatchNorm2d(128, eps=1e-05, momentum=0.1, affine=True, track_running_stats=True)\n",
       "     (downsample): Sequential(\n",
       "       (0): Conv2d(64, 128, kernel_size=(1, 1), stride=(2, 2), bias=False)\n",
       "       (1): BatchNorm2d(128, eps=1e-05, momentum=0.1, affine=True, track_running_stats=True)\n",
       "     )\n",
       "   )\n",
       "   (1): BasicBlock(\n",
       "     (conv1): Conv2d(128, 128, kernel_size=(3, 3), stride=(1, 1), padding=(1, 1), bias=False)\n",
       "     (bn1): BatchNorm2d(128, eps=1e-05, momentum=0.1, affine=True, track_running_stats=True)\n",
       "     (relu): ReLU(inplace=True)\n",
       "     (conv2): Conv2d(128, 128, kernel_size=(3, 3), stride=(1, 1), padding=(1, 1), bias=False)\n",
       "     (bn2): BatchNorm2d(128, eps=1e-05, momentum=0.1, affine=True, track_running_stats=True)\n",
       "   )\n",
       "   (2): BasicBlock(\n",
       "     (conv1): Conv2d(128, 128, kernel_size=(3, 3), stride=(1, 1), padding=(1, 1), bias=False)\n",
       "     (bn1): BatchNorm2d(128, eps=1e-05, momentum=0.1, affine=True, track_running_stats=True)\n",
       "     (relu): ReLU(inplace=True)\n",
       "     (conv2): Conv2d(128, 128, kernel_size=(3, 3), stride=(1, 1), padding=(1, 1), bias=False)\n",
       "     (bn2): BatchNorm2d(128, eps=1e-05, momentum=0.1, affine=True, track_running_stats=True)\n",
       "   )\n",
       "   (3): BasicBlock(\n",
       "     (conv1): Conv2d(128, 128, kernel_size=(3, 3), stride=(1, 1), padding=(1, 1), bias=False)\n",
       "     (bn1): BatchNorm2d(128, eps=1e-05, momentum=0.1, affine=True, track_running_stats=True)\n",
       "     (relu): ReLU(inplace=True)\n",
       "     (conv2): Conv2d(128, 128, kernel_size=(3, 3), stride=(1, 1), padding=(1, 1), bias=False)\n",
       "     (bn2): BatchNorm2d(128, eps=1e-05, momentum=0.1, affine=True, track_running_stats=True)\n",
       "   )\n",
       " ),\n",
       " Sequential(\n",
       "   (0): BasicBlock(\n",
       "     (conv1): Conv2d(128, 256, kernel_size=(3, 3), stride=(2, 2), padding=(1, 1), bias=False)\n",
       "     (bn1): BatchNorm2d(256, eps=1e-05, momentum=0.1, affine=True, track_running_stats=True)\n",
       "     (relu): ReLU(inplace=True)\n",
       "     (conv2): Conv2d(256, 256, kernel_size=(3, 3), stride=(1, 1), padding=(1, 1), bias=False)\n",
       "     (bn2): BatchNorm2d(256, eps=1e-05, momentum=0.1, affine=True, track_running_stats=True)\n",
       "     (downsample): Sequential(\n",
       "       (0): Conv2d(128, 256, kernel_size=(1, 1), stride=(2, 2), bias=False)\n",
       "       (1): BatchNorm2d(256, eps=1e-05, momentum=0.1, affine=True, track_running_stats=True)\n",
       "     )\n",
       "   )\n",
       "   (1): BasicBlock(\n",
       "     (conv1): Conv2d(256, 256, kernel_size=(3, 3), stride=(1, 1), padding=(1, 1), bias=False)\n",
       "     (bn1): BatchNorm2d(256, eps=1e-05, momentum=0.1, affine=True, track_running_stats=True)\n",
       "     (relu): ReLU(inplace=True)\n",
       "     (conv2): Conv2d(256, 256, kernel_size=(3, 3), stride=(1, 1), padding=(1, 1), bias=False)\n",
       "     (bn2): BatchNorm2d(256, eps=1e-05, momentum=0.1, affine=True, track_running_stats=True)\n",
       "   )\n",
       "   (2): BasicBlock(\n",
       "     (conv1): Conv2d(256, 256, kernel_size=(3, 3), stride=(1, 1), padding=(1, 1), bias=False)\n",
       "     (bn1): BatchNorm2d(256, eps=1e-05, momentum=0.1, affine=True, track_running_stats=True)\n",
       "     (relu): ReLU(inplace=True)\n",
       "     (conv2): Conv2d(256, 256, kernel_size=(3, 3), stride=(1, 1), padding=(1, 1), bias=False)\n",
       "     (bn2): BatchNorm2d(256, eps=1e-05, momentum=0.1, affine=True, track_running_stats=True)\n",
       "   )\n",
       "   (3): BasicBlock(\n",
       "     (conv1): Conv2d(256, 256, kernel_size=(3, 3), stride=(1, 1), padding=(1, 1), bias=False)\n",
       "     (bn1): BatchNorm2d(256, eps=1e-05, momentum=0.1, affine=True, track_running_stats=True)\n",
       "     (relu): ReLU(inplace=True)\n",
       "     (conv2): Conv2d(256, 256, kernel_size=(3, 3), stride=(1, 1), padding=(1, 1), bias=False)\n",
       "     (bn2): BatchNorm2d(256, eps=1e-05, momentum=0.1, affine=True, track_running_stats=True)\n",
       "   )\n",
       "   (4): BasicBlock(\n",
       "     (conv1): Conv2d(256, 256, kernel_size=(3, 3), stride=(1, 1), padding=(1, 1), bias=False)\n",
       "     (bn1): BatchNorm2d(256, eps=1e-05, momentum=0.1, affine=True, track_running_stats=True)\n",
       "     (relu): ReLU(inplace=True)\n",
       "     (conv2): Conv2d(256, 256, kernel_size=(3, 3), stride=(1, 1), padding=(1, 1), bias=False)\n",
       "     (bn2): BatchNorm2d(256, eps=1e-05, momentum=0.1, affine=True, track_running_stats=True)\n",
       "   )\n",
       "   (5): BasicBlock(\n",
       "     (conv1): Conv2d(256, 256, kernel_size=(3, 3), stride=(1, 1), padding=(1, 1), bias=False)\n",
       "     (bn1): BatchNorm2d(256, eps=1e-05, momentum=0.1, affine=True, track_running_stats=True)\n",
       "     (relu): ReLU(inplace=True)\n",
       "     (conv2): Conv2d(256, 256, kernel_size=(3, 3), stride=(1, 1), padding=(1, 1), bias=False)\n",
       "     (bn2): BatchNorm2d(256, eps=1e-05, momentum=0.1, affine=True, track_running_stats=True)\n",
       "   )\n",
       " ),\n",
       " Sequential(\n",
       "   (0): BasicBlock(\n",
       "     (conv1): Conv2d(256, 512, kernel_size=(3, 3), stride=(2, 2), padding=(1, 1), bias=False)\n",
       "     (bn1): BatchNorm2d(512, eps=1e-05, momentum=0.1, affine=True, track_running_stats=True)\n",
       "     (relu): ReLU(inplace=True)\n",
       "     (conv2): Conv2d(512, 512, kernel_size=(3, 3), stride=(1, 1), padding=(1, 1), bias=False)\n",
       "     (bn2): BatchNorm2d(512, eps=1e-05, momentum=0.1, affine=True, track_running_stats=True)\n",
       "     (downsample): Sequential(\n",
       "       (0): Conv2d(256, 512, kernel_size=(1, 1), stride=(2, 2), bias=False)\n",
       "       (1): BatchNorm2d(512, eps=1e-05, momentum=0.1, affine=True, track_running_stats=True)\n",
       "     )\n",
       "   )\n",
       "   (1): BasicBlock(\n",
       "     (conv1): Conv2d(512, 512, kernel_size=(3, 3), stride=(1, 1), padding=(1, 1), bias=False)\n",
       "     (bn1): BatchNorm2d(512, eps=1e-05, momentum=0.1, affine=True, track_running_stats=True)\n",
       "     (relu): ReLU(inplace=True)\n",
       "     (conv2): Conv2d(512, 512, kernel_size=(3, 3), stride=(1, 1), padding=(1, 1), bias=False)\n",
       "     (bn2): BatchNorm2d(512, eps=1e-05, momentum=0.1, affine=True, track_running_stats=True)\n",
       "   )\n",
       "   (2): BasicBlock(\n",
       "     (conv1): Conv2d(512, 512, kernel_size=(3, 3), stride=(1, 1), padding=(1, 1), bias=False)\n",
       "     (bn1): BatchNorm2d(512, eps=1e-05, momentum=0.1, affine=True, track_running_stats=True)\n",
       "     (relu): ReLU(inplace=True)\n",
       "     (conv2): Conv2d(512, 512, kernel_size=(3, 3), stride=(1, 1), padding=(1, 1), bias=False)\n",
       "     (bn2): BatchNorm2d(512, eps=1e-05, momentum=0.1, affine=True, track_running_stats=True)\n",
       "   )\n",
       " )]"
      ]
     },
     "execution_count": 17,
     "metadata": {},
     "output_type": "execute_result"
    }
   ],
   "source": [
    "resnet = models.resnet34(pretrained=True)\n",
    "list(resnet.children())[:8]"
   ]
  },
  {
   "cell_type": "markdown",
   "id": "recognized-firmware",
   "metadata": {
    "papermill": {
     "duration": 0.038213,
     "end_time": "2021-06-11T14:10:37.409585",
     "exception": false,
     "start_time": "2021-06-11T14:10:37.371372",
     "status": "completed"
    },
    "tags": []
   },
   "source": [
    "### Education\n",
    "\n",
    "To calculate the loss, we need to take into account both the classification loss and the bounding box regression loss, so we use a combination of cross entropy and L1 loss (the sum of all absolute differences between the true value and the predicted coordinates)."
   ]
  },
  {
   "cell_type": "code",
   "execution_count": 18,
   "id": "excessive-sleeping",
   "metadata": {
    "_kg_hide-output": true,
    "execution": {
     "iopub.execute_input": "2021-06-11T14:10:37.519589Z",
     "iopub.status.busy": "2021-06-11T14:10:37.518690Z",
     "iopub.status.idle": "2021-06-11T14:10:42.671765Z",
     "shell.execute_reply": "2021-06-11T14:10:42.672242Z",
     "shell.execute_reply.started": "2021-06-03T08:18:35.153742Z"
    },
    "papermill": {
     "duration": 5.223442,
     "end_time": "2021-06-11T14:10:42.672415",
     "exception": false,
     "start_time": "2021-06-11T14:10:37.448973",
     "status": "completed"
    },
    "tags": []
   },
   "outputs": [
    {
     "data": {
      "text/plain": [
       "BB_model(\n",
       "  (features): Sequential(\n",
       "    (0): Conv2d(3, 64, kernel_size=(7, 7), stride=(2, 2), padding=(3, 3), bias=False)\n",
       "    (1): BatchNorm2d(64, eps=1e-05, momentum=0.1, affine=True, track_running_stats=True)\n",
       "    (2): ReLU(inplace=True)\n",
       "    (3): MaxPool2d(kernel_size=3, stride=2, padding=1, dilation=1, ceil_mode=False)\n",
       "    (4): Sequential(\n",
       "      (0): BasicBlock(\n",
       "        (conv1): Conv2d(64, 64, kernel_size=(3, 3), stride=(1, 1), padding=(1, 1), bias=False)\n",
       "        (bn1): BatchNorm2d(64, eps=1e-05, momentum=0.1, affine=True, track_running_stats=True)\n",
       "        (relu): ReLU(inplace=True)\n",
       "        (conv2): Conv2d(64, 64, kernel_size=(3, 3), stride=(1, 1), padding=(1, 1), bias=False)\n",
       "        (bn2): BatchNorm2d(64, eps=1e-05, momentum=0.1, affine=True, track_running_stats=True)\n",
       "      )\n",
       "      (1): BasicBlock(\n",
       "        (conv1): Conv2d(64, 64, kernel_size=(3, 3), stride=(1, 1), padding=(1, 1), bias=False)\n",
       "        (bn1): BatchNorm2d(64, eps=1e-05, momentum=0.1, affine=True, track_running_stats=True)\n",
       "        (relu): ReLU(inplace=True)\n",
       "        (conv2): Conv2d(64, 64, kernel_size=(3, 3), stride=(1, 1), padding=(1, 1), bias=False)\n",
       "        (bn2): BatchNorm2d(64, eps=1e-05, momentum=0.1, affine=True, track_running_stats=True)\n",
       "      )\n",
       "      (2): BasicBlock(\n",
       "        (conv1): Conv2d(64, 64, kernel_size=(3, 3), stride=(1, 1), padding=(1, 1), bias=False)\n",
       "        (bn1): BatchNorm2d(64, eps=1e-05, momentum=0.1, affine=True, track_running_stats=True)\n",
       "        (relu): ReLU(inplace=True)\n",
       "        (conv2): Conv2d(64, 64, kernel_size=(3, 3), stride=(1, 1), padding=(1, 1), bias=False)\n",
       "        (bn2): BatchNorm2d(64, eps=1e-05, momentum=0.1, affine=True, track_running_stats=True)\n",
       "      )\n",
       "    )\n",
       "    (5): Sequential(\n",
       "      (0): BasicBlock(\n",
       "        (conv1): Conv2d(64, 128, kernel_size=(3, 3), stride=(2, 2), padding=(1, 1), bias=False)\n",
       "        (bn1): BatchNorm2d(128, eps=1e-05, momentum=0.1, affine=True, track_running_stats=True)\n",
       "        (relu): ReLU(inplace=True)\n",
       "        (conv2): Conv2d(128, 128, kernel_size=(3, 3), stride=(1, 1), padding=(1, 1), bias=False)\n",
       "        (bn2): BatchNorm2d(128, eps=1e-05, momentum=0.1, affine=True, track_running_stats=True)\n",
       "        (downsample): Sequential(\n",
       "          (0): Conv2d(64, 128, kernel_size=(1, 1), stride=(2, 2), bias=False)\n",
       "          (1): BatchNorm2d(128, eps=1e-05, momentum=0.1, affine=True, track_running_stats=True)\n",
       "        )\n",
       "      )\n",
       "      (1): BasicBlock(\n",
       "        (conv1): Conv2d(128, 128, kernel_size=(3, 3), stride=(1, 1), padding=(1, 1), bias=False)\n",
       "        (bn1): BatchNorm2d(128, eps=1e-05, momentum=0.1, affine=True, track_running_stats=True)\n",
       "        (relu): ReLU(inplace=True)\n",
       "        (conv2): Conv2d(128, 128, kernel_size=(3, 3), stride=(1, 1), padding=(1, 1), bias=False)\n",
       "        (bn2): BatchNorm2d(128, eps=1e-05, momentum=0.1, affine=True, track_running_stats=True)\n",
       "      )\n",
       "      (2): BasicBlock(\n",
       "        (conv1): Conv2d(128, 128, kernel_size=(3, 3), stride=(1, 1), padding=(1, 1), bias=False)\n",
       "        (bn1): BatchNorm2d(128, eps=1e-05, momentum=0.1, affine=True, track_running_stats=True)\n",
       "        (relu): ReLU(inplace=True)\n",
       "        (conv2): Conv2d(128, 128, kernel_size=(3, 3), stride=(1, 1), padding=(1, 1), bias=False)\n",
       "        (bn2): BatchNorm2d(128, eps=1e-05, momentum=0.1, affine=True, track_running_stats=True)\n",
       "      )\n",
       "      (3): BasicBlock(\n",
       "        (conv1): Conv2d(128, 128, kernel_size=(3, 3), stride=(1, 1), padding=(1, 1), bias=False)\n",
       "        (bn1): BatchNorm2d(128, eps=1e-05, momentum=0.1, affine=True, track_running_stats=True)\n",
       "        (relu): ReLU(inplace=True)\n",
       "        (conv2): Conv2d(128, 128, kernel_size=(3, 3), stride=(1, 1), padding=(1, 1), bias=False)\n",
       "        (bn2): BatchNorm2d(128, eps=1e-05, momentum=0.1, affine=True, track_running_stats=True)\n",
       "      )\n",
       "    )\n",
       "    (6): Sequential(\n",
       "      (0): BasicBlock(\n",
       "        (conv1): Conv2d(128, 256, kernel_size=(3, 3), stride=(2, 2), padding=(1, 1), bias=False)\n",
       "        (bn1): BatchNorm2d(256, eps=1e-05, momentum=0.1, affine=True, track_running_stats=True)\n",
       "        (relu): ReLU(inplace=True)\n",
       "        (conv2): Conv2d(256, 256, kernel_size=(3, 3), stride=(1, 1), padding=(1, 1), bias=False)\n",
       "        (bn2): BatchNorm2d(256, eps=1e-05, momentum=0.1, affine=True, track_running_stats=True)\n",
       "        (downsample): Sequential(\n",
       "          (0): Conv2d(128, 256, kernel_size=(1, 1), stride=(2, 2), bias=False)\n",
       "          (1): BatchNorm2d(256, eps=1e-05, momentum=0.1, affine=True, track_running_stats=True)\n",
       "        )\n",
       "      )\n",
       "      (1): BasicBlock(\n",
       "        (conv1): Conv2d(256, 256, kernel_size=(3, 3), stride=(1, 1), padding=(1, 1), bias=False)\n",
       "        (bn1): BatchNorm2d(256, eps=1e-05, momentum=0.1, affine=True, track_running_stats=True)\n",
       "        (relu): ReLU(inplace=True)\n",
       "        (conv2): Conv2d(256, 256, kernel_size=(3, 3), stride=(1, 1), padding=(1, 1), bias=False)\n",
       "        (bn2): BatchNorm2d(256, eps=1e-05, momentum=0.1, affine=True, track_running_stats=True)\n",
       "      )\n",
       "      (2): BasicBlock(\n",
       "        (conv1): Conv2d(256, 256, kernel_size=(3, 3), stride=(1, 1), padding=(1, 1), bias=False)\n",
       "        (bn1): BatchNorm2d(256, eps=1e-05, momentum=0.1, affine=True, track_running_stats=True)\n",
       "        (relu): ReLU(inplace=True)\n",
       "        (conv2): Conv2d(256, 256, kernel_size=(3, 3), stride=(1, 1), padding=(1, 1), bias=False)\n",
       "        (bn2): BatchNorm2d(256, eps=1e-05, momentum=0.1, affine=True, track_running_stats=True)\n",
       "      )\n",
       "      (3): BasicBlock(\n",
       "        (conv1): Conv2d(256, 256, kernel_size=(3, 3), stride=(1, 1), padding=(1, 1), bias=False)\n",
       "        (bn1): BatchNorm2d(256, eps=1e-05, momentum=0.1, affine=True, track_running_stats=True)\n",
       "        (relu): ReLU(inplace=True)\n",
       "        (conv2): Conv2d(256, 256, kernel_size=(3, 3), stride=(1, 1), padding=(1, 1), bias=False)\n",
       "        (bn2): BatchNorm2d(256, eps=1e-05, momentum=0.1, affine=True, track_running_stats=True)\n",
       "      )\n",
       "      (4): BasicBlock(\n",
       "        (conv1): Conv2d(256, 256, kernel_size=(3, 3), stride=(1, 1), padding=(1, 1), bias=False)\n",
       "        (bn1): BatchNorm2d(256, eps=1e-05, momentum=0.1, affine=True, track_running_stats=True)\n",
       "        (relu): ReLU(inplace=True)\n",
       "        (conv2): Conv2d(256, 256, kernel_size=(3, 3), stride=(1, 1), padding=(1, 1), bias=False)\n",
       "        (bn2): BatchNorm2d(256, eps=1e-05, momentum=0.1, affine=True, track_running_stats=True)\n",
       "      )\n",
       "      (5): BasicBlock(\n",
       "        (conv1): Conv2d(256, 256, kernel_size=(3, 3), stride=(1, 1), padding=(1, 1), bias=False)\n",
       "        (bn1): BatchNorm2d(256, eps=1e-05, momentum=0.1, affine=True, track_running_stats=True)\n",
       "        (relu): ReLU(inplace=True)\n",
       "        (conv2): Conv2d(256, 256, kernel_size=(3, 3), stride=(1, 1), padding=(1, 1), bias=False)\n",
       "        (bn2): BatchNorm2d(256, eps=1e-05, momentum=0.1, affine=True, track_running_stats=True)\n",
       "      )\n",
       "    )\n",
       "    (7): Sequential(\n",
       "      (0): BasicBlock(\n",
       "        (conv1): Conv2d(256, 512, kernel_size=(3, 3), stride=(2, 2), padding=(1, 1), bias=False)\n",
       "        (bn1): BatchNorm2d(512, eps=1e-05, momentum=0.1, affine=True, track_running_stats=True)\n",
       "        (relu): ReLU(inplace=True)\n",
       "        (conv2): Conv2d(512, 512, kernel_size=(3, 3), stride=(1, 1), padding=(1, 1), bias=False)\n",
       "        (bn2): BatchNorm2d(512, eps=1e-05, momentum=0.1, affine=True, track_running_stats=True)\n",
       "        (downsample): Sequential(\n",
       "          (0): Conv2d(256, 512, kernel_size=(1, 1), stride=(2, 2), bias=False)\n",
       "          (1): BatchNorm2d(512, eps=1e-05, momentum=0.1, affine=True, track_running_stats=True)\n",
       "        )\n",
       "      )\n",
       "      (1): BasicBlock(\n",
       "        (conv1): Conv2d(512, 512, kernel_size=(3, 3), stride=(1, 1), padding=(1, 1), bias=False)\n",
       "        (bn1): BatchNorm2d(512, eps=1e-05, momentum=0.1, affine=True, track_running_stats=True)\n",
       "        (relu): ReLU(inplace=True)\n",
       "        (conv2): Conv2d(512, 512, kernel_size=(3, 3), stride=(1, 1), padding=(1, 1), bias=False)\n",
       "        (bn2): BatchNorm2d(512, eps=1e-05, momentum=0.1, affine=True, track_running_stats=True)\n",
       "      )\n",
       "      (2): BasicBlock(\n",
       "        (conv1): Conv2d(512, 512, kernel_size=(3, 3), stride=(1, 1), padding=(1, 1), bias=False)\n",
       "        (bn1): BatchNorm2d(512, eps=1e-05, momentum=0.1, affine=True, track_running_stats=True)\n",
       "        (relu): ReLU(inplace=True)\n",
       "        (conv2): Conv2d(512, 512, kernel_size=(3, 3), stride=(1, 1), padding=(1, 1), bias=False)\n",
       "        (bn2): BatchNorm2d(512, eps=1e-05, momentum=0.1, affine=True, track_running_stats=True)\n",
       "      )\n",
       "    )\n",
       "  )\n",
       "  (classifier): Sequential(\n",
       "    (0): BatchNorm1d(512, eps=1e-05, momentum=0.1, affine=True, track_running_stats=True)\n",
       "    (1): Linear(in_features=512, out_features=4, bias=True)\n",
       "  )\n",
       "  (bb): Sequential(\n",
       "    (0): BatchNorm1d(512, eps=1e-05, momentum=0.1, affine=True, track_running_stats=True)\n",
       "    (1): Linear(in_features=512, out_features=4, bias=True)\n",
       "  )\n",
       ")"
      ]
     },
     "execution_count": 18,
     "metadata": {},
     "output_type": "execute_result"
    }
   ],
   "source": [
    "model = BB_model().cuda()\n",
    "params = [p for p in model.parameters() if p.requires_grad]\n",
    "optimizer = torch.optim.Adam(params, lr=0.006)\n",
    "epochs = 15\n",
    "model"
   ]
  },
  {
   "cell_type": "code",
   "execution_count": 19,
   "id": "earlier-minute",
   "metadata": {
    "execution": {
     "iopub.execute_input": "2021-06-11T14:10:42.796839Z",
     "iopub.status.busy": "2021-06-11T14:10:42.794980Z",
     "iopub.status.idle": "2021-06-11T14:10:42.797521Z",
     "shell.execute_reply": "2021-06-11T14:10:42.798024Z",
     "shell.execute_reply.started": "2021-06-03T08:18:35.716567Z"
    },
    "papermill": {
     "duration": 0.081099,
     "end_time": "2021-06-11T14:10:42.798199",
     "exception": false,
     "start_time": "2021-06-11T14:10:42.717100",
     "status": "completed"
    },
    "tags": []
   },
   "outputs": [],
   "source": [
    "def train():\n",
    "    for i in range(epochs):\n",
    "\n",
    "        model.train()\n",
    "        total = 0\n",
    "        sum_loss = 0\n",
    "\n",
    "        for x, y_class, y_bb in train_dl:\n",
    "            len_batch = y_class.shape[0]\n",
    "            x = x.cuda().float()\n",
    "            y_class = y_class.cuda()\n",
    "            y_bb = y_bb.cuda().float()\n",
    "            out_class, out_bb = model(x)\n",
    "            \n",
    "            # losses\n",
    "            loss_class = F.cross_entropy(out_class, y_class, reduction=\"sum\")\n",
    "            loss_bb = F.l1_loss(out_bb, y_bb, reduction=\"sum\")\n",
    "            \n",
    "            loss = loss_class + loss_bb\n",
    "            \n",
    "            optimizer.zero_grad()\n",
    "            loss.backward()\n",
    "            optimizer.step()\n",
    "            \n",
    "            total += len_batch\n",
    "            sum_loss += loss.item()\n",
    "        \n",
    "        train_loss = sum_loss / total\n",
    "\n",
    "        # Eval\n",
    "        model.eval()\n",
    "        val_total = 0\n",
    "        val_sum_loss = 0\n",
    "        correct = 0\n",
    "\n",
    "        for x, y_class, y_bb in valid_dl:\n",
    "            len_batch = y_class.shape[0]\n",
    "            x = x.cuda().float()\n",
    "            y_class = y_class.cuda()\n",
    "            y_bb = y_bb.cuda().float()\n",
    "            \n",
    "            out_class, out_bb = model(x)\n",
    "            \n",
    "            loss_class = F.cross_entropy(out_class, y_class, reduction=\"sum\")\n",
    "            loss_bb = F.l1_loss(out_bb, y_bb, reduction=\"sum\")\n",
    "            loss = loss_class + loss_bb\n",
    "            \n",
    "            _, pred = torch.max(out_class, 1)\n",
    "            correct += (pred == y_class).sum().item()\n",
    "            \n",
    "            val_sum_loss += loss.item()\n",
    "            val_total += len_batch\n",
    "            \n",
    "        val_loss = val_sum_loss / val_total\n",
    "        val_acc = correct / val_total\n",
    "\n",
    "        print(f\"Epoch [{i+1}/{epochs}]. train_loss {train_loss:.3f} val_loss {val_loss:.3f} val_acc {val_acc:.3f}\")"
   ]
  },
  {
   "cell_type": "code",
   "execution_count": 20,
   "id": "young-semiconductor",
   "metadata": {
    "execution": {
     "iopub.execute_input": "2021-06-11T14:10:42.895293Z",
     "iopub.status.busy": "2021-06-11T14:10:42.894606Z",
     "iopub.status.idle": "2021-06-11T14:14:11.427321Z",
     "shell.execute_reply": "2021-06-11T14:14:11.427784Z",
     "shell.execute_reply.started": "2021-06-03T08:18:36.036051Z"
    },
    "papermill": {
     "duration": 208.576733,
     "end_time": "2021-06-11T14:14:11.427963",
     "exception": false,
     "start_time": "2021-06-11T14:10:42.851230",
     "status": "completed"
    },
    "tags": []
   },
   "outputs": [
    {
     "name": "stdout",
     "output_type": "stream",
     "text": [
      "Epoch [1/15]. train_loss 503.344 val_loss 1343.680 val_acc 0.756\n",
      "Epoch [2/15]. train_loss 225.935 val_loss 280.120 val_acc 0.318\n",
      "Epoch [3/15]. train_loss 148.099 val_loss 153.990 val_acc 0.750\n",
      "Epoch [4/15]. train_loss 145.001 val_loss 158.225 val_acc 0.739\n",
      "Epoch [5/15]. train_loss 144.499 val_loss 162.923 val_acc 0.744\n",
      "Epoch [6/15]. train_loss 143.369 val_loss 148.709 val_acc 0.756\n",
      "Epoch [7/15]. train_loss 140.347 val_loss 158.461 val_acc 0.761\n",
      "Epoch [8/15]. train_loss 135.440 val_loss 165.685 val_acc 0.693\n",
      "Epoch [9/15]. train_loss 138.219 val_loss 158.399 val_acc 0.761\n",
      "Epoch [10/15]. train_loss 132.028 val_loss 189.347 val_acc 0.784\n",
      "Epoch [11/15]. train_loss 130.652 val_loss 143.713 val_acc 0.761\n",
      "Epoch [12/15]. train_loss 129.853 val_loss 134.483 val_acc 0.790\n",
      "Epoch [13/15]. train_loss 128.930 val_loss 135.029 val_acc 0.767\n",
      "Epoch [14/15]. train_loss 128.207 val_loss 135.045 val_acc 0.761\n",
      "Epoch [15/15]. train_loss 124.919 val_loss 132.862 val_acc 0.778\n"
     ]
    }
   ],
   "source": [
    "train()"
   ]
  },
  {
   "cell_type": "markdown",
   "id": "sized-uncertainty",
   "metadata": {
    "papermill": {
     "duration": 0.041699,
     "end_time": "2021-06-11T14:14:11.511780",
     "exception": false,
     "start_time": "2021-06-11T14:14:11.470081",
     "status": "completed"
    },
    "tags": []
   },
   "source": [
    "\n",
    "\n",
    "Trick: after passing the tutorial, we can change the training step and continue:\n",
    "\n"
   ]
  },
  {
   "cell_type": "code",
   "execution_count": 21,
   "id": "fitting-miniature",
   "metadata": {
    "execution": {
     "iopub.execute_input": "2021-06-11T14:14:11.601174Z",
     "iopub.status.busy": "2021-06-11T14:14:11.600487Z",
     "iopub.status.idle": "2021-06-11T14:14:11.604274Z",
     "shell.execute_reply": "2021-06-11T14:14:11.603833Z",
     "shell.execute_reply.started": "2021-06-03T08:22:52.108209Z"
    },
    "papermill": {
     "duration": 0.050095,
     "end_time": "2021-06-11T14:14:11.604389",
     "exception": false,
     "start_time": "2021-06-11T14:14:11.554294",
     "status": "completed"
    },
    "tags": []
   },
   "outputs": [],
   "source": [
    "for i, param_group in enumerate(optimizer.param_groups):\n",
    "    param_group[\"lr\"] = 0.001"
   ]
  },
  {
   "cell_type": "code",
   "execution_count": 22,
   "id": "sustainable-collection",
   "metadata": {
    "execution": {
     "iopub.execute_input": "2021-06-11T14:14:11.694044Z",
     "iopub.status.busy": "2021-06-11T14:14:11.693214Z",
     "iopub.status.idle": "2021-06-11T14:17:39.617357Z",
     "shell.execute_reply": "2021-06-11T14:17:39.617791Z",
     "shell.execute_reply.started": "2021-06-03T08:22:52.451673Z"
    },
    "papermill": {
     "duration": 207.971199,
     "end_time": "2021-06-11T14:17:39.617965",
     "exception": false,
     "start_time": "2021-06-11T14:14:11.646766",
     "status": "completed"
    },
    "tags": []
   },
   "outputs": [
    {
     "name": "stdout",
     "output_type": "stream",
     "text": [
      "Epoch [1/15]. train_loss 120.614 val_loss 123.771 val_acc 0.790\n",
      "Epoch [2/15]. train_loss 117.055 val_loss 121.016 val_acc 0.801\n",
      "Epoch [3/15]. train_loss 119.144 val_loss 119.564 val_acc 0.773\n",
      "Epoch [4/15]. train_loss 117.604 val_loss 125.285 val_acc 0.778\n",
      "Epoch [5/15]. train_loss 117.283 val_loss 117.840 val_acc 0.795\n",
      "Epoch [6/15]. train_loss 113.579 val_loss 121.355 val_acc 0.784\n",
      "Epoch [7/15]. train_loss 113.766 val_loss 117.781 val_acc 0.795\n",
      "Epoch [8/15]. train_loss 115.341 val_loss 112.868 val_acc 0.778\n",
      "Epoch [9/15]. train_loss 111.105 val_loss 108.757 val_acc 0.790\n",
      "Epoch [10/15]. train_loss 112.404 val_loss 111.164 val_acc 0.784\n",
      "Epoch [11/15]. train_loss 107.204 val_loss 117.803 val_acc 0.773\n",
      "Epoch [12/15]. train_loss 108.855 val_loss 111.645 val_acc 0.778\n",
      "Epoch [13/15]. train_loss 105.157 val_loss 108.451 val_acc 0.778\n",
      "Epoch [14/15]. train_loss 106.244 val_loss 109.556 val_acc 0.784\n",
      "Epoch [15/15]. train_loss 105.142 val_loss 107.769 val_acc 0.778\n"
     ]
    }
   ],
   "source": [
    "train()"
   ]
  },
  {
   "cell_type": "markdown",
   "id": "associate-serial",
   "metadata": {
    "papermill": {
     "duration": 0.045313,
     "end_time": "2021-06-11T14:17:39.709002",
     "exception": false,
     "start_time": "2021-06-11T14:17:39.663689",
     "status": "completed"
    },
    "tags": []
   },
   "source": [
    "\n",
    "\n",
    "# Testing"
   ]
  },
  {
   "cell_type": "code",
   "execution_count": 23,
   "id": "fantastic-reply",
   "metadata": {
    "execution": {
     "iopub.execute_input": "2021-06-11T14:17:39.805771Z",
     "iopub.status.busy": "2021-06-11T14:17:39.804864Z",
     "iopub.status.idle": "2021-06-11T14:17:39.818444Z",
     "shell.execute_reply": "2021-06-11T14:17:39.818036Z",
     "shell.execute_reply.started": "2021-06-03T08:26:05.135982Z"
    },
    "papermill": {
     "duration": 0.063437,
     "end_time": "2021-06-11T14:17:39.818560",
     "exception": false,
     "start_time": "2021-06-11T14:17:39.755123",
     "status": "completed"
    },
    "tags": []
   },
   "outputs": [
    {
     "data": {
      "text/plain": [
       "True"
      ]
     },
     "execution_count": 23,
     "metadata": {},
     "output_type": "execute_result"
    }
   ],
   "source": [
    "# resizing test image\n",
    "im = read_image('./images_resized/road789.png')\n",
    "Path.mkdir(Path('./road_signs_test'), exist_ok=True)\n",
    "cv2.imwrite('./road_signs_test/road789.jpg', cv2.cvtColor(im, cv2.COLOR_RGB2BGR))"
   ]
  },
  {
   "cell_type": "code",
   "execution_count": 24,
   "id": "unnecessary-convert",
   "metadata": {
    "execution": {
     "iopub.execute_input": "2021-06-11T14:17:39.918575Z",
     "iopub.status.busy": "2021-06-11T14:17:39.917836Z",
     "iopub.status.idle": "2021-06-11T14:17:39.929452Z",
     "shell.execute_reply": "2021-06-11T14:17:39.929917Z",
     "shell.execute_reply.started": "2021-06-03T08:26:05.150513Z"
    },
    "papermill": {
     "duration": 0.06554,
     "end_time": "2021-06-11T14:17:39.930061",
     "exception": false,
     "start_time": "2021-06-11T14:17:39.864521",
     "status": "completed"
    },
    "tags": []
   },
   "outputs": [
    {
     "data": {
      "text/plain": [
       "torch.Size([1, 3, 284, 284])"
      ]
     },
     "execution_count": 24,
     "metadata": {},
     "output_type": "execute_result"
    }
   ],
   "source": [
    "# test Dataset\n",
    "test_ds = RoadDataset(\n",
    "    pd.DataFrame([{'path':'./road_signs_test/road789.jpg'}])['path'],\n",
    "    pd.DataFrame([{'bb':np.array([0,0,0,0])}])['bb'],\n",
    "    pd.DataFrame([{'y':[0]}])['y']\n",
    ")\n",
    "x, y_class, y_bb = test_ds[0]\n",
    "\n",
    "xx = torch.FloatTensor(x[None,])\n",
    "xx.shape"
   ]
  },
  {
   "cell_type": "code",
   "execution_count": 25,
   "id": "communist-dairy",
   "metadata": {
    "execution": {
     "iopub.execute_input": "2021-06-11T14:17:40.027706Z",
     "iopub.status.busy": "2021-06-11T14:17:40.026934Z",
     "iopub.status.idle": "2021-06-11T14:17:40.081347Z",
     "shell.execute_reply": "2021-06-11T14:17:40.080938Z",
     "shell.execute_reply.started": "2021-06-03T08:26:05.167465Z"
    },
    "papermill": {
     "duration": 0.104982,
     "end_time": "2021-06-11T14:17:40.081466",
     "exception": false,
     "start_time": "2021-06-11T14:17:39.976484",
     "status": "completed"
    },
    "tags": []
   },
   "outputs": [
    {
     "data": {
      "text/plain": [
       "(tensor([[ 1.9434, -0.9509, -0.4944, -1.3870]], device='cuda:0',\n",
       "        grad_fn=<AddmmBackward>),\n",
       " tensor([[111.9880, 108.3861, 158.2375, 163.0214]], device='cuda:0',\n",
       "        grad_fn=<AddmmBackward>))"
      ]
     },
     "execution_count": 25,
     "metadata": {},
     "output_type": "execute_result"
    }
   ],
   "source": [
    "# prediction\n",
    "out_class, out_bb = model(xx.cuda())\n",
    "out_class, out_bb"
   ]
  },
  {
   "cell_type": "code",
   "execution_count": 26,
   "id": "twelve-israeli",
   "metadata": {
    "execution": {
     "iopub.execute_input": "2021-06-11T14:17:40.179127Z",
     "iopub.status.busy": "2021-06-11T14:17:40.178275Z",
     "iopub.status.idle": "2021-06-11T14:17:40.184124Z",
     "shell.execute_reply": "2021-06-11T14:17:40.183600Z",
     "shell.execute_reply.started": "2021-06-03T08:26:05.195461Z"
    },
    "papermill": {
     "duration": 0.056041,
     "end_time": "2021-06-11T14:17:40.184238",
     "exception": false,
     "start_time": "2021-06-11T14:17:40.128197",
     "status": "completed"
    },
    "tags": []
   },
   "outputs": [
    {
     "data": {
      "text/plain": [
       "torch.return_types.max(\n",
       "values=tensor([1.9434], device='cuda:0', grad_fn=<MaxBackward0>),\n",
       "indices=tensor([0], device='cuda:0'))"
      ]
     },
     "execution_count": 26,
     "metadata": {},
     "output_type": "execute_result"
    }
   ],
   "source": [
    "# predicted class\n",
    "torch.max(out_class, 1)"
   ]
  },
  {
   "cell_type": "code",
   "execution_count": 27,
   "id": "middle-casino",
   "metadata": {
    "execution": {
     "iopub.execute_input": "2021-06-11T14:17:40.281381Z",
     "iopub.status.busy": "2021-06-11T14:17:40.280683Z",
     "iopub.status.idle": "2021-06-11T14:17:40.284124Z",
     "shell.execute_reply": "2021-06-11T14:17:40.283610Z",
     "shell.execute_reply.started": "2021-06-03T08:26:05.203736Z"
    },
    "papermill": {
     "duration": 0.053511,
     "end_time": "2021-06-11T14:17:40.284231",
     "exception": false,
     "start_time": "2021-06-11T14:17:40.230720",
     "status": "completed"
    },
    "tags": []
   },
   "outputs": [
    {
     "data": {
      "text/plain": [
       "{'speedlimit': 0, 'stop': 1, 'crosswalk': 2, 'trafficlight': 3}"
      ]
     },
     "execution_count": 27,
     "metadata": {},
     "output_type": "execute_result"
    }
   ],
   "source": [
    "class_dict"
   ]
  },
  {
   "cell_type": "code",
   "execution_count": 28,
   "id": "insured-association",
   "metadata": {
    "execution": {
     "iopub.execute_input": "2021-06-11T14:17:40.383125Z",
     "iopub.status.busy": "2021-06-11T14:17:40.382340Z",
     "iopub.status.idle": "2021-06-11T14:17:40.531443Z",
     "shell.execute_reply": "2021-06-11T14:17:40.531016Z",
     "shell.execute_reply.started": "2021-06-03T08:26:05.21476Z"
    },
    "papermill": {
     "duration": 0.200818,
     "end_time": "2021-06-11T14:17:40.531567",
     "exception": false,
     "start_time": "2021-06-11T14:17:40.330749",
     "status": "completed"
    },
    "tags": []
   },
   "outputs": [
    {
     "data": {
      "image/png": "[encoded data removed]",
      "text/plain": [
       "<Figure size 432x288 with 1 Axes>"
      ]
     },
     "metadata": {
      "needs_background": "light"
     },
     "output_type": "display_data"
    }
   ],
   "source": [
    "# predicted bounding box\n",
    "bb_hat = out_bb.detach().cpu().numpy()\n",
    "bb_hat = bb_hat.astype(int)\n",
    "show_corner_bb(im, bb_hat[0])"
   ]
  }
 ],
 "metadata": {
  "kernelspec": {
   "display_name": "Python 3",
   "language": "python",
   "name": "python3"
  },
  "language_info": {
   "codemirror_mode": {
    "name": "ipython",
    "version": 3
   },
   "file_extension": ".py",
   "mimetype": "text/x-python",
   "name": "python",
   "nbconvert_exporter": "python",
   "pygments_lexer": "ipython3",
   "version": "3.7.10"
  },
  "papermill": {
   "default_parameters": {},
   "duration": 466.836031,
   "end_time": "2021-06-11T14:17:42.176586",
   "environment_variables": {},
   "exception": null,
   "input_path": "__notebook__.ipynb",
   "output_path": "__notebook__.ipynb",
   "parameters": {},
   "start_time": "2021-06-11T14:09:55.340555",
   "version": "2.3.3"
  },
  "widgets": {
   "application/vnd.jupyter.widget-state+json": {
    "state": {
     "465e9cfdeb73401abf85c49f1b1808cf": {
      "model_module": "@jupyter-widgets/controls",
      "model_module_version": "1.5.0",
      "model_name": "HTMLModel",
      "state": {
       "_dom_classes": [],
       "_model_module": "@jupyter-widgets/controls",
       "_model_module_version": "1.5.0",
       "_model_name": "HTMLModel",
       "_view_count": null,
       "_view_module": "@jupyter-widgets/controls",
       "_view_module_version": "1.5.0",
       "_view_name": "HTMLView",
       "description": "",
       "description_tooltip": null,
       "layout": "IPY_MODEL_8ee920d04c24411d9862c232c34dfca4",
       "placeholder": "​",
       "style": "IPY_MODEL_dab0790f6c3a491ea8791e38ccf56eeb",
       "value": " 83.3M/83.3M [00:03&lt;00:00, 33.6MB/s]"
      }
     },
     "6f493bf775884c309788f8d9ea8d3d4e": {
      "model_module": "@jupyter-widgets/base",
      "model_module_version": "1.2.0",
      "model_name": "LayoutModel",
      "state": {
       "_model_module": "@jupyter-widgets/base",
       "_model_module_version": "1.2.0",
       "_model_name": "LayoutModel",
       "_view_count": null,
       "_view_module": "@jupyter-widgets/base",
       "_view_module_version": "1.2.0",
       "_view_name": "LayoutView",
       "align_content": null,
       "align_items": null,
       "align_self": null,
       "border": null,
       "bottom": null,
       "display": null,
       "flex": null,
       "flex_flow": null,
       "grid_area": null,
       "grid_auto_columns": null,
       "grid_auto_flow": null,
       "grid_auto_rows": null,
       "grid_column": null,
       "grid_gap": null,
       "grid_row": null,
       "grid_template_areas": null,
       "grid_template_columns": null,
       "grid_template_rows": null,
       "height": null,
       "justify_content": null,
       "justify_items": null,
       "left": null,
       "margin": null,
       "max_height": null,
       "max_width": null,
       "min_height": null,
       "min_width": null,
       "object_fit": null,
       "object_position": null,
       "order": null,
       "overflow": null,
       "overflow_x": null,
       "overflow_y": null,
       "padding": null,
       "right": null,
       "top": null,
       "visibility": null,
       "width": null
      }
     },
     "7001c5eecd46494f8f31e089a5a9ebf2": {
      "model_module": "@jupyter-widgets/controls",
      "model_module_version": "1.5.0",
      "model_name": "DescriptionStyleModel",
      "state": {
       "_model_module": "@jupyter-widgets/controls",
       "_model_module_version": "1.5.0",
       "_model_name": "DescriptionStyleModel",
       "_view_count": null,
       "_view_module": "@jupyter-widgets/base",
       "_view_module_version": "1.2.0",
       "_view_name": "StyleView",
       "description_width": ""
      }
     },
     "78cb99e4091c47f8a0e8207cf782297e": {
      "model_module": "@jupyter-widgets/controls",
      "model_module_version": "1.5.0",
      "model_name": "FloatProgressModel",
      "state": {
       "_dom_classes": [],
       "_model_module": "@jupyter-widgets/controls",
       "_model_module_version": "1.5.0",
       "_model_name": "FloatProgressModel",
       "_view_count": null,
       "_view_module": "@jupyter-widgets/controls",
       "_view_module_version": "1.5.0",
       "_view_name": "ProgressView",
       "bar_style": "success",
       "description": "",
       "description_tooltip": null,
       "layout": "IPY_MODEL_6f493bf775884c309788f8d9ea8d3d4e",
       "max": 87306240,
       "min": 0,
       "orientation": "horizontal",
       "style": "IPY_MODEL_e206c030bcae47169ec027027de36f13",
       "value": 87306240
      }
     },
     "8acd8327b0f345fd981e7e8564b60184": {
      "model_module": "@jupyter-widgets/controls",
      "model_module_version": "1.5.0",
      "model_name": "HTMLModel",
      "state": {
       "_dom_classes": [],
       "_model_module": "@jupyter-widgets/controls",
       "_model_module_version": "1.5.0",
       "_model_name": "HTMLModel",
       "_view_count": null,
       "_view_module": "@jupyter-widgets/controls",
       "_view_module_version": "1.5.0",
       "_view_name": "HTMLView",
       "description": "",
       "description_tooltip": null,
       "layout": "IPY_MODEL_92fa71c170a649d1aeb6298377986723",
       "placeholder": "​",
       "style": "IPY_MODEL_7001c5eecd46494f8f31e089a5a9ebf2",
       "value": "100%"
      }
     },
     "8ee920d04c24411d9862c232c34dfca4": {
      "model_module": "@jupyter-widgets/base",
      "model_module_version": "1.2.0",
      "model_name": "LayoutModel",
      "state": {
       "_model_module": "@jupyter-widgets/base",
       "_model_module_version": "1.2.0",
       "_model_name": "LayoutModel",
       "_view_count": null,
       "_view_module": "@jupyter-widgets/base",
       "_view_module_version": "1.2.0",
       "_view_name": "LayoutView",
       "align_content": null,
       "align_items": null,
       "align_self": null,
       "border": null,
       "bottom": null,
       "display": null,
       "flex": null,
       "flex_flow": null,
       "grid_area": null,
       "grid_auto_columns": null,
       "grid_auto_flow": null,
       "grid_auto_rows": null,
       "grid_column": null,
       "grid_gap": null,
       "grid_row": null,
       "grid_template_areas": null,
       "grid_template_columns": null,
       "grid_template_rows": null,
       "height": null,
       "justify_content": null,
       "justify_items": null,
       "left": null,
       "margin": null,
       "max_height": null,
       "max_width": null,
       "min_height": null,
       "min_width": null,
       "object_fit": null,
       "object_position": null,
       "order": null,
       "overflow": null,
       "overflow_x": null,
       "overflow_y": null,
       "padding": null,
       "right": null,
       "top": null,
       "visibility": null,
       "width": null
      }
     },
     "92fa71c170a649d1aeb6298377986723": {
      "model_module": "@jupyter-widgets/base",
      "model_module_version": "1.2.0",
      "model_name": "LayoutModel",
      "state": {
       "_model_module": "@jupyter-widgets/base",
       "_model_module_version": "1.2.0",
       "_model_name": "LayoutModel",
       "_view_count": null,
       "_view_module": "@jupyter-widgets/base",
       "_view_module_version": "1.2.0",
       "_view_name": "LayoutView",
       "align_content": null,
       "align_items": null,
       "align_self": null,
       "border": null,
       "bottom": null,
       "display": null,
       "flex": null,
       "flex_flow": null,
       "grid_area": null,
       "grid_auto_columns": null,
       "grid_auto_flow": null,
       "grid_auto_rows": null,
       "grid_column": null,
       "grid_gap": null,
       "grid_row": null,
       "grid_template_areas": null,
       "grid_template_columns": null,
       "grid_template_rows": null,
       "height": null,
       "justify_content": null,
       "justify_items": null,
       "left": null,
       "margin": null,
       "max_height": null,
       "max_width": null,
       "min_height": null,
       "min_width": null,
       "object_fit": null,
       "object_position": null,
       "order": null,
       "overflow": null,
       "overflow_x": null,
       "overflow_y": null,
       "padding": null,
       "right": null,
       "top": null,
       "visibility": null,
       "width": null
      }
     },
     "cc7375d9480c4f55a8ac5f2cc859bf53": {
      "model_module": "@jupyter-widgets/base",
      "model_module_version": "1.2.0",
      "model_name": "LayoutModel",
      "state": {
       "_model_module": "@jupyter-widgets/base",
       "_model_module_version": "1.2.0",
       "_model_name": "LayoutModel",
       "_view_count": null,
       "_view_module": "@jupyter-widgets/base",
       "_view_module_version": "1.2.0",
       "_view_name": "LayoutView",
       "align_content": null,
       "align_items": null,
       "align_self": null,
       "border": null,
       "bottom": null,
       "display": null,
       "flex": null,
       "flex_flow": null,
       "grid_area": null,
       "grid_auto_columns": null,
       "grid_auto_flow": null,
       "grid_auto_rows": null,
       "grid_column": null,
       "grid_gap": null,
       "grid_row": null,
       "grid_template_areas": null,
       "grid_template_columns": null,
       "grid_template_rows": null,
       "height": null,
       "justify_content": null,
       "justify_items": null,
       "left": null,
       "margin": null,
       "max_height": null,
       "max_width": null,
       "min_height": null,
       "min_width": null,
       "object_fit": null,
       "object_position": null,
       "order": null,
       "overflow": null,
       "overflow_x": null,
       "overflow_y": null,
       "padding": null,
       "right": null,
       "top": null,
       "visibility": null,
       "width": null
      }
     },
     "dab0790f6c3a491ea8791e38ccf56eeb": {
      "model_module": "@jupyter-widgets/controls",
      "model_module_version": "1.5.0",
      "model_name": "DescriptionStyleModel",
      "state": {
       "_model_module": "@jupyter-widgets/controls",
       "_model_module_version": "1.5.0",
       "_model_name": "DescriptionStyleModel",
       "_view_count": null,
       "_view_module": "@jupyter-widgets/base",
       "_view_module_version": "1.2.0",
       "_view_name": "StyleView",
       "description_width": ""
      }
     },
     "e182fcffe132468f93f164f0aaa3b026": {
      "model_module": "@jupyter-widgets/controls",
      "model_module_version": "1.5.0",
      "model_name": "HBoxModel",
      "state": {
       "_dom_classes": [],
       "_model_module": "@jupyter-widgets/controls",
       "_model_module_version": "1.5.0",
       "_model_name": "HBoxModel",
       "_view_count": null,
       "_view_module": "@jupyter-widgets/controls",
       "_view_module_version": "1.5.0",
       "_view_name": "HBoxView",
       "box_style": "",
       "children": [
        "IPY_MODEL_8acd8327b0f345fd981e7e8564b60184",
        "IPY_MODEL_78cb99e4091c47f8a0e8207cf782297e",
        "IPY_MODEL_465e9cfdeb73401abf85c49f1b1808cf"
       ],
       "layout": "IPY_MODEL_cc7375d9480c4f55a8ac5f2cc859bf53"
      }
     },
     "e206c030bcae47169ec027027de36f13": {
      "model_module": "@jupyter-widgets/controls",
      "model_module_version": "1.5.0",
      "model_name": "ProgressStyleModel",
      "state": {
       "_model_module": "@jupyter-widgets/controls",
       "_model_module_version": "1.5.0",
       "_model_name": "ProgressStyleModel",
       "_view_count": null,
       "_view_module": "@jupyter-widgets/base",
       "_view_module_version": "1.2.0",
       "_view_name": "StyleView",
       "bar_color": null,
       "description_width": ""
      }
     }
    },
    "version_major": 2,
    "version_minor": 0
   }
  }
 },
 "nbformat": 4,
 "nbformat_minor": 5
}
