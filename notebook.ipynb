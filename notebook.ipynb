{
 "cells": [
  {
   "cell_type": "markdown",
   "metadata": {},
   "source": [
    "# Classifying Traffic Signs with OpenCV\n",
    "\n",
    "For this project we will be trying split the traffic sign dataset into 3 separate classes:\n",
    "- Stop signs\n",
    "- Red Circles\n",
    "- Blue rectangles/squares "
   ]
  },
  {
   "cell_type": "markdown",
   "metadata": {},
   "source": [
    "To start we need to collect all of the xml files and the corresponding png files so we can parse them.\n",
    "Our dataset has 877 pictures of traffic sings with 4 distinctions: 'trafficlight', 'speedlimit', 'crosswalk' and 'stop'."
   ]
  },
  {
   "cell_type": "code",
   "execution_count": 34,
   "metadata": {},
   "outputs": [],
   "source": [
    "import os, os.path\n",
    "import xml.etree.ElementTree as ET\n",
    "\n",
    "xml_files = [name for name in os.listdir('./Dataset/annotations')]\n",
    "validation_dictionary = {}\n",
    "\n",
    "for name in xml_files:\n",
    "    # Parse the xml\n",
    "    mytree = ET.parse('./Dataset/annotations/' + name)\n",
    "    \n",
    "    # Get number from name\n",
    "    order = ''.join(i for i in name if i.isdigit())\n",
    "    \n",
    "    # Get sign type\n",
    "    validation_dictionary[order] = mytree.getroot().find('object').find('name').text\n",
    "    "
   ]
  },
  {
   "cell_type": "markdown",
   "metadata": {},
   "source": [
    "Our dataset has 877 pictures of traffic sings with 4 distinctions: 'trafficlight', 'speedlimit', 'crosswalk' and 'stop'."
   ]
  },
  {
   "cell_type": "code",
   "execution_count": 33,
   "metadata": {},
   "outputs": [
    {
     "name": "stdout",
     "output_type": "stream",
     "text": [
      "['trafficlight', 'speedlimit', 'crosswalk', 'stop']\n"
     ]
    }
   ],
   "source": [
    "sign_types = []\n",
    "for entry in validation_dictionary:\n",
    "    if validation_dictionary[entry] not in sign_types:\n",
    "        sign_types.append(validation_dictionary[entry])\n",
    "print(sign_types)"
   ]
  },
  {
   "cell_type": "markdown",
   "metadata": {},
   "source": []
  },
  {
   "cell_type": "code",
   "execution_count": 35,
   "metadata": {},
   "outputs": [
    {
     "ename": "RuntimeError",
     "evalue": "dictionary changed size during iteration",
     "output_type": "error",
     "traceback": [
      "\u001b[1;31m---------------------------------------------------------------------------\u001b[0m",
      "\u001b[1;31mRuntimeError\u001b[0m                              Traceback (most recent call last)",
      "\u001b[1;32mc:\\Users\\coelh\\Desktop\\FEUP\\4ano2\\VC\\project\\notebook.ipynb Cell 7'\u001b[0m in \u001b[0;36m<cell line: 1>\u001b[1;34m()\u001b[0m\n\u001b[1;32m----> <a href='vscode-notebook-cell:/c%3A/Users/coelh/Desktop/FEUP/4ano2/VC/project/notebook.ipynb#ch0000006?line=0'>1</a>\u001b[0m \u001b[39mfor\u001b[39;00m entry \u001b[39min\u001b[39;00m validation_dictionary:\n\u001b[0;32m      <a href='vscode-notebook-cell:/c%3A/Users/coelh/Desktop/FEUP/4ano2/VC/project/notebook.ipynb#ch0000006?line=1'>2</a>\u001b[0m     \u001b[39mif\u001b[39;00m validation_dictionary[entry] \u001b[39m==\u001b[39m \u001b[39m'\u001b[39m\u001b[39mtrafficlight\u001b[39m\u001b[39m'\u001b[39m:\n\u001b[0;32m      <a href='vscode-notebook-cell:/c%3A/Users/coelh/Desktop/FEUP/4ano2/VC/project/notebook.ipynb#ch0000006?line=2'>3</a>\u001b[0m         \u001b[39mdel\u001b[39;00m validation_dictionary[entry]\n",
      "\u001b[1;31mRuntimeError\u001b[0m: dictionary changed size during iteration"
     ]
    }
   ],
   "source": []
  }
 ],
 "metadata": {
  "interpreter": {
   "hash": "2be5faf79681da6f2a61fdfdd5405d65d042280f7fba6178067603e3a2925119"
  },
  "kernelspec": {
   "display_name": "Python 3.10.1 64-bit",
   "language": "python",
   "name": "python3"
  },
  "language_info": {
   "codemirror_mode": {
    "name": "ipython",
    "version": 3
   },
   "file_extension": ".py",
   "mimetype": "text/x-python",
   "name": "python",
   "nbconvert_exporter": "python",
   "pygments_lexer": "ipython3",
   "version": "3.10.1"
  },
  "orig_nbformat": 4
 },
 "nbformat": 4,
 "nbformat_minor": 2
}
