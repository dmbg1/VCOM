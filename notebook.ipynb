{
 "cells": [
  {
   "cell_type": "markdown",
   "metadata": {},
   "source": []
  },
  {
   "cell_type": "markdown",
   "metadata": {},
   "source": [
    "# Classifying Traffic Signs with OpenCV\n",
    "\n",
    "For this project we will be trying split the traffic sign dataset into 3 separate classes:\n",
    "- Stop signs\n",
    "- Red Circles\n",
    "- Blue rectangles/squares "
   ]
  },
  {
   "cell_type": "markdown",
   "metadata": {},
   "source": [
    "### Imports"
   ]
  },
  {
   "cell_type": "code",
   "execution_count": null,
   "metadata": {},
   "outputs": [],
   "source": [
    "import cv2 as cv\n",
    "import numpy as np\n",
    "import os, os.path\n",
    "import xml.etree.ElementTree as ET"
   ]
  },
  {
   "cell_type": "markdown",
   "metadata": {},
   "source": [
    "### Useful functions"
   ]
  },
  {
   "cell_type": "code",
   "execution_count": null,
   "metadata": {},
   "outputs": [],
   "source": [
    "# Convert image color model to hsv\n",
    "def cvt_color_to_hsv(img):\n",
    "    cv.cvtColor(img, cv.COLOR_BGR2HSV)\n",
    "\n",
    "# Remove image noise with gaussian blur (better at preserving edges)\n",
    "def remove_noise(img):\n",
    "    return cv.GaussianBlur(img, 3)\n",
    "\n",
    "# Add contrast to image by histogram equalization\n",
    "def add_contrast(img):\n",
    "    return cv.equalizeHist(img)\n",
    "\n",
    "# Filter reds in image using a mask by converting colors different than red black\n",
    "def filter_red(img):\n",
    "    # lower mask (0-10)\n",
    "    lower_red = np.array([0,70,50])\n",
    "    upper_red = np.array([10,255,255])\n",
    "    mask0 = cv.inRange(img, lower_red, upper_red)  \n",
    "\n",
    "    # upper mask (170-180)\n",
    "    lower_red = np.array([170,70,50])\n",
    "    upper_red = np.array([180,255,255])\n",
    "    mask1 = cv.inRange(img, lower_red, upper_red)\n",
    "\n",
    "    mask = mask0 | mask1\n",
    "\n",
    "    img_aux = img.copy()\n",
    "\n",
    "    img_aux[np.where(mask == 0)] = 0\n",
    "\n",
    "    return img_aux\n",
    "\n",
    "# Filter blues in image using a mask by converting colors different than blue black\n",
    "def filter_blue(img):\n",
    "    lower_blue = np.array([110,50,50])\n",
    "    upper_blue = np.array([130,255,255])\n",
    "    mask = cv.inRange(img, lower_blue, upper_blue)  \n",
    "\n",
    "    img_aux = img.copy()\n",
    "\n",
    "    img_aux[np.where(mask == 0)] = 0\n",
    "\n",
    "    return img_aux"
   ]
  },
  {
   "cell_type": "markdown",
   "metadata": {},
   "source": [
    "To start we need to collect all of the xml files and the corresponding png files so we can parse them.\n",
    "Our dataset has 877 pictures of traffic sings with 4 distinctions: 'trafficlight', 'speedlimit', 'crosswalk' and 'stop'."
   ]
  },
  {
   "cell_type": "code",
   "execution_count": 5,
   "metadata": {},
   "outputs": [],
   "source": [
    "xml_files = [name for name in os.listdir('./Dataset/annotations')]\n",
    "validation_dictionary = {}\n",
    "\n",
    "for name in xml_files:\n",
    "    # Parse the xml\n",
    "    mytree = ET.parse('./Dataset/annotations/' + name)\n",
    "    \n",
    "    # Get number from name\n",
    "    order = ''.join(i for i in name if i.isdigit())\n",
    "    \n",
    "    # Get sign type\n",
    "    validation_dictionary[order] = mytree.getroot().find('object').find('name').text\n",
    "    "
   ]
  },
  {
   "cell_type": "markdown",
   "metadata": {},
   "source": [
    "Our dataset has 877 pictures of traffic sings with 4 distinctions: 'trafficlight', 'speedlimit', 'crosswalk' and 'stop'."
   ]
  },
  {
   "cell_type": "code",
   "execution_count": 6,
   "metadata": {},
   "outputs": [
    {
     "name": "stdout",
     "output_type": "stream",
     "text": [
      "['trafficlight', 'speedlimit', 'crosswalk', 'stop']\n",
      "{'0': 'trafficlight', '1': 'trafficlight', '10': 'trafficlight', '100': 'speedlimit', '101': 'speedlimit', '102': 'speedlimit', '103': 'speedlimit', '104': 'speedlimit', '105': 'speedlimit', '106': 'speedlimit', '107': 'speedlimit', '108': 'speedlimit', '109': 'speedlimit', '11': 'trafficlight', '110': 'speedlimit', '111': 'speedlimit', '112': 'speedlimit', '113': 'speedlimit', '114': 'speedlimit', '115': 'speedlimit', '116': 'speedlimit', '117': 'speedlimit', '118': 'speedlimit', '119': 'speedlimit', '12': 'trafficlight', '120': 'speedlimit', '121': 'speedlimit', '122': 'crosswalk', '123': 'crosswalk', '124': 'crosswalk', '125': 'crosswalk', '126': 'crosswalk', '127': 'crosswalk', '128': 'crosswalk', '129': 'crosswalk', '13': 'trafficlight', '130': 'crosswalk', '131': 'crosswalk', '132': 'crosswalk', '133': 'crosswalk', '134': 'crosswalk', '135': 'crosswalk', '136': 'crosswalk', '137': 'crosswalk', '138': 'crosswalk', '139': 'crosswalk', '14': 'trafficlight', '140': 'crosswalk', '141': 'crosswalk', '142': 'crosswalk', '143': 'crosswalk', '144': 'crosswalk', '145': 'crosswalk', '146': 'crosswalk', '147': 'crosswalk', '148': 'crosswalk', '149': 'crosswalk', '15': 'trafficlight', '150': 'crosswalk', '151': 'crosswalk', '152': 'crosswalk', '153': 'crosswalk', '154': 'crosswalk', '155': 'crosswalk', '156': 'crosswalk', '157': 'speedlimit', '158': 'crosswalk', '159': 'speedlimit', '16': 'trafficlight', '160': 'crosswalk', '161': 'speedlimit', '162': 'speedlimit', '163': 'speedlimit', '164': 'trafficlight', '165': 'crosswalk', '166': 'crosswalk', '167': 'crosswalk', '168': 'crosswalk', '169': 'speedlimit', '17': 'trafficlight', '170': 'crosswalk', '171': 'crosswalk', '172': 'speedlimit', '173': 'speedlimit', '174': 'speedlimit', '175': 'speedlimit', '176': 'crosswalk', '177': 'speedlimit', '178': 'crosswalk', '179': 'trafficlight', '18': 'trafficlight', '180': 'crosswalk', '181': 'speedlimit', '182': 'speedlimit', '183': 'crosswalk', '184': 'speedlimit', '185': 'stop', '186': 'crosswalk', '187': 'crosswalk', '188': 'speedlimit', '189': 'crosswalk', '19': 'trafficlight', '190': 'crosswalk', '191': 'speedlimit', '192': 'speedlimit', '193': 'crosswalk', '194': 'crosswalk', '195': 'trafficlight', '196': 'speedlimit', '197': 'speedlimit', '198': 'speedlimit', '199': 'speedlimit', '2': 'trafficlight', '20': 'trafficlight', '200': 'crosswalk', '201': 'speedlimit', '202': 'speedlimit', '203': 'speedlimit', '204': 'crosswalk', '205': 'crosswalk', '206': 'speedlimit', '207': 'speedlimit', '208': 'speedlimit', '209': 'speedlimit', '21': 'trafficlight', '210': 'speedlimit', '211': 'speedlimit', '212': 'speedlimit', '213': 'speedlimit', '214': 'speedlimit', '215': 'speedlimit', '216': 'speedlimit', '217': 'speedlimit', '218': 'speedlimit', '219': 'speedlimit', '22': 'trafficlight', '220': 'speedlimit', '221': 'speedlimit', '222': 'speedlimit', '223': 'speedlimit', '224': 'speedlimit', '225': 'speedlimit', '226': 'speedlimit', '227': 'speedlimit', '228': 'speedlimit', '229': 'speedlimit', '23': 'trafficlight', '230': 'speedlimit', '231': 'speedlimit', '232': 'speedlimit', '233': 'speedlimit', '234': 'speedlimit', '235': 'speedlimit', '236': 'speedlimit', '237': 'speedlimit', '238': 'speedlimit', '239': 'speedlimit', '24': 'trafficlight', '240': 'speedlimit', '241': 'speedlimit', '242': 'speedlimit', '243': 'speedlimit', '244': 'speedlimit', '245': 'speedlimit', '246': 'speedlimit', '247': 'speedlimit', '248': 'speedlimit', '249': 'speedlimit', '25': 'trafficlight', '250': 'speedlimit', '251': 'speedlimit', '252': 'speedlimit', '253': 'speedlimit', '254': 'speedlimit', '255': 'speedlimit', '256': 'speedlimit', '257': 'speedlimit', '258': 'speedlimit', '259': 'speedlimit', '26': 'trafficlight', '260': 'speedlimit', '261': 'speedlimit', '262': 'speedlimit', '263': 'speedlimit', '264': 'speedlimit', '265': 'speedlimit', '266': 'speedlimit', '267': 'speedlimit', '268': 'speedlimit', '269': 'speedlimit', '27': 'trafficlight', '270': 'stop', '271': 'speedlimit', '272': 'stop', '273': 'speedlimit', '274': 'speedlimit', '275': 'trafficlight', '276': 'speedlimit', '277': 'speedlimit', '278': 'stop', '279': 'speedlimit', '28': 'trafficlight', '280': 'speedlimit', '281': 'speedlimit', '282': 'speedlimit', '283': 'speedlimit', '284': 'speedlimit', '285': 'speedlimit', '286': 'speedlimit', '287': 'speedlimit', '288': 'speedlimit', '289': 'stop', '29': 'trafficlight', '290': 'speedlimit', '291': 'speedlimit', '292': 'speedlimit', '293': 'speedlimit', '294': 'speedlimit', '295': 'speedlimit', '296': 'speedlimit', '297': 'speedlimit', '298': 'speedlimit', '299': 'speedlimit', '3': 'trafficlight', '30': 'trafficlight', '300': 'crosswalk', '301': 'speedlimit', '302': 'stop', '303': 'stop', '304': 'speedlimit', '305': 'speedlimit', '306': 'stop', '307': 'crosswalk', '308': 'speedlimit', '309': 'speedlimit', '31': 'trafficlight', '310': 'speedlimit', '311': 'speedlimit', '312': 'speedlimit', '313': 'speedlimit', '314': 'speedlimit', '315': 'crosswalk', '316': 'speedlimit', '317': 'speedlimit', '318': 'crosswalk', '319': 'speedlimit', '32': 'trafficlight', '320': 'speedlimit', '321': 'speedlimit', '322': 'speedlimit', '323': 'speedlimit', '324': 'crosswalk', '325': 'speedlimit', '326': 'speedlimit', '327': 'speedlimit', '328': 'speedlimit', '329': 'speedlimit', '33': 'trafficlight', '330': 'speedlimit', '331': 'speedlimit', '332': 'speedlimit', '333': 'speedlimit', '334': 'speedlimit', '335': 'speedlimit', '336': 'speedlimit', '337': 'speedlimit', '338': 'speedlimit', '339': 'stop', '34': 'trafficlight', '340': 'speedlimit', '341': 'speedlimit', '342': 'speedlimit', '343': 'speedlimit', '344': 'speedlimit', '345': 'speedlimit', '346': 'speedlimit', '347': 'speedlimit', '348': 'speedlimit', '349': 'speedlimit', '35': 'trafficlight', '350': 'speedlimit', '351': 'speedlimit', '352': 'speedlimit', '353': 'speedlimit', '354': 'stop', '355': 'speedlimit', '356': 'stop', '357': 'speedlimit', '358': 'speedlimit', '359': 'speedlimit', '36': 'trafficlight', '360': 'speedlimit', '361': 'speedlimit', '362': 'speedlimit', '363': 'speedlimit', '364': 'speedlimit', '365': 'speedlimit', '366': 'speedlimit', '367': 'speedlimit', '368': 'speedlimit', '369': 'speedlimit', '37': 'trafficlight', '370': 'speedlimit', '371': 'speedlimit', '372': 'speedlimit', '373': 'speedlimit', '374': 'stop', '375': 'speedlimit', '376': 'speedlimit', '377': 'speedlimit', '378': 'speedlimit', '379': 'speedlimit', '38': 'trafficlight', '380': 'speedlimit', '381': 'speedlimit', '382': 'speedlimit', '383': 'speedlimit', '384': 'speedlimit', '385': 'speedlimit', '386': 'speedlimit', '387': 'speedlimit', '388': 'speedlimit', '389': 'speedlimit', '39': 'trafficlight', '390': 'speedlimit', '391': 'speedlimit', '392': 'speedlimit', '393': 'speedlimit', '394': 'speedlimit', '395': 'speedlimit', '396': 'speedlimit', '397': 'speedlimit', '398': 'speedlimit', '399': 'speedlimit', '4': 'trafficlight', '40': 'trafficlight', '400': 'speedlimit', '401': 'speedlimit', '402': 'speedlimit', '403': 'speedlimit', '404': 'speedlimit', '405': 'speedlimit', '406': 'speedlimit', '407': 'speedlimit', '408': 'speedlimit', '409': 'speedlimit', '41': 'trafficlight', '410': 'speedlimit', '411': 'speedlimit', '412': 'speedlimit', '413': 'speedlimit', '414': 'speedlimit', '415': 'speedlimit', '416': 'speedlimit', '417': 'speedlimit', '418': 'speedlimit', '419': 'speedlimit', '42': 'trafficlight', '420': 'speedlimit', '421': 'speedlimit', '422': 'speedlimit', '423': 'speedlimit', '424': 'speedlimit', '425': 'speedlimit', '426': 'speedlimit', '427': 'speedlimit', '428': 'speedlimit', '429': 'speedlimit', '43': 'trafficlight', '430': 'speedlimit', '431': 'speedlimit', '432': 'speedlimit', '433': 'speedlimit', '434': 'speedlimit', '435': 'speedlimit', '436': 'speedlimit', '437': 'speedlimit', '438': 'speedlimit', '439': 'speedlimit', '44': 'trafficlight', '440': 'speedlimit', '441': 'speedlimit', '442': 'speedlimit', '443': 'speedlimit', '444': 'speedlimit', '445': 'speedlimit', '446': 'speedlimit', '447': 'speedlimit', '448': 'speedlimit', '449': 'speedlimit', '45': 'trafficlight', '450': 'speedlimit', '451': 'speedlimit', '452': 'speedlimit', '453': 'speedlimit', '454': 'speedlimit', '455': 'speedlimit', '456': 'speedlimit', '457': 'speedlimit', '458': 'speedlimit', '459': 'speedlimit', '46': 'trafficlight', '460': 'crosswalk', '461': 'speedlimit', '462': 'crosswalk', '463': 'speedlimit', '464': 'crosswalk', '465': 'crosswalk', '466': 'speedlimit', '467': 'speedlimit', '468': 'speedlimit', '469': 'speedlimit', '47': 'trafficlight', '470': 'speedlimit', '471': 'speedlimit', '472': 'speedlimit', '473': 'speedlimit', '474': 'speedlimit', '475': 'speedlimit', '476': 'speedlimit', '477': 'speedlimit', '478': 'speedlimit', '479': 'speedlimit', '48': 'trafficlight', '480': 'speedlimit', '481': 'speedlimit', '482': 'speedlimit', '483': 'speedlimit', '484': 'speedlimit', '485': 'speedlimit', '486': 'speedlimit', '487': 'speedlimit', '488': 'speedlimit', '489': 'speedlimit', '49': 'trafficlight', '490': 'speedlimit', '491': 'speedlimit', '492': 'speedlimit', '493': 'speedlimit', '494': 'speedlimit', '495': 'crosswalk', '496': 'speedlimit', '497': 'speedlimit', '498': 'speedlimit', '499': 'speedlimit', '5': 'trafficlight', '50': 'trafficlight', '500': 'speedlimit', '501': 'speedlimit', '502': 'speedlimit', '503': 'speedlimit', '504': 'speedlimit', '505': 'speedlimit', '506': 'speedlimit', '507': 'speedlimit', '508': 'speedlimit', '509': 'speedlimit', '51': 'trafficlight', '510': 'speedlimit', '511': 'speedlimit', '512': 'speedlimit', '513': 'speedlimit', '514': 'speedlimit', '515': 'speedlimit', '516': 'speedlimit', '517': 'speedlimit', '518': 'speedlimit', '519': 'speedlimit', '52': 'stop', '520': 'speedlimit', '521': 'speedlimit', '522': 'speedlimit', '523': 'speedlimit', '524': 'speedlimit', '525': 'speedlimit', '526': 'speedlimit', '527': 'speedlimit', '528': 'speedlimit', '529': 'speedlimit', '53': 'stop', '530': 'speedlimit', '531': 'speedlimit', '532': 'crosswalk', '533': 'speedlimit', '534': 'crosswalk', '535': 'speedlimit', '536': 'speedlimit', '537': 'speedlimit', '538': 'speedlimit', '539': 'speedlimit', '54': 'stop', '540': 'speedlimit', '541': 'speedlimit', '542': 'speedlimit', '543': 'speedlimit', '544': 'crosswalk', '545': 'speedlimit', '546': 'crosswalk', '547': 'speedlimit', '548': 'crosswalk', '549': 'speedlimit', '55': 'stop', '550': 'speedlimit', '551': 'speedlimit', '552': 'speedlimit', '553': 'speedlimit', '554': 'speedlimit', '555': 'speedlimit', '556': 'speedlimit', '557': 'speedlimit', '558': 'speedlimit', '559': 'speedlimit', '56': 'stop', '560': 'crosswalk', '561': 'speedlimit', '562': 'crosswalk', '563': 'speedlimit', '564': 'crosswalk', '565': 'speedlimit', '566': 'speedlimit', '567': 'speedlimit', '568': 'speedlimit', '569': 'speedlimit', '57': 'stop', '570': 'speedlimit', '571': 'speedlimit', '572': 'speedlimit', '573': 'crosswalk', '574': 'speedlimit', '575': 'speedlimit', '576': 'crosswalk', '577': 'speedlimit', '578': 'crosswalk', '579': 'crosswalk', '58': 'stop', '580': 'crosswalk', '581': 'crosswalk', '582': 'trafficlight', '583': 'crosswalk', '584': 'speedlimit', '585': 'speedlimit', '586': 'speedlimit', '587': 'speedlimit', '588': 'speedlimit', '589': 'speedlimit', '59': 'stop', '590': 'speedlimit', '591': 'speedlimit', '592': 'speedlimit', '593': 'speedlimit', '594': 'speedlimit', '595': 'speedlimit', '596': 'speedlimit', '597': 'speedlimit', '598': 'crosswalk', '599': 'speedlimit', '6': 'trafficlight', '60': 'stop', '600': 'speedlimit', '601': 'speedlimit', '602': 'speedlimit', '603': 'speedlimit', '604': 'speedlimit', '605': 'speedlimit', '606': 'speedlimit', '607': 'speedlimit', '608': 'speedlimit', '609': 'speedlimit', '61': 'stop', '610': 'speedlimit', '611': 'speedlimit', '612': 'speedlimit', '613': 'speedlimit', '614': 'speedlimit', '615': 'speedlimit', '616': 'speedlimit', '617': 'speedlimit', '618': 'speedlimit', '619': 'speedlimit', '62': 'stop', '620': 'speedlimit', '621': 'speedlimit', '622': 'speedlimit', '623': 'speedlimit', '624': 'speedlimit', '625': 'speedlimit', '626': 'speedlimit', '627': 'speedlimit', '628': 'speedlimit', '629': 'speedlimit', '63': 'stop', '630': 'stop', '631': 'stop', '632': 'stop', '633': 'stop', '634': 'stop', '635': 'stop', '636': 'stop', '637': 'stop', '638': 'speedlimit', '639': 'speedlimit', '64': 'stop', '640': 'speedlimit', '641': 'speedlimit', '642': 'speedlimit', '643': 'speedlimit', '644': 'speedlimit', '645': 'speedlimit', '646': 'speedlimit', '647': 'speedlimit', '648': 'speedlimit', '649': 'speedlimit', '65': 'stop', '650': 'speedlimit', '651': 'speedlimit', '652': 'speedlimit', '653': 'speedlimit', '654': 'speedlimit', '655': 'speedlimit', '656': 'crosswalk', '657': 'speedlimit', '658': 'crosswalk', '659': 'speedlimit', '66': 'stop', '660': 'speedlimit', '661': 'speedlimit', '662': 'speedlimit', '663': 'speedlimit', '664': 'speedlimit', '665': 'speedlimit', '666': 'speedlimit', '667': 'speedlimit', '668': 'speedlimit', '669': 'crosswalk', '67': 'stop', '670': 'speedlimit', '671': 'speedlimit', '672': 'speedlimit', '673': 'stop', '674': 'stop', '675': 'speedlimit', '676': 'stop', '677': 'speedlimit', '678': 'speedlimit', '679': 'speedlimit', '68': 'stop', '680': 'speedlimit', '681': 'speedlimit', '682': 'speedlimit', '683': 'speedlimit', '684': 'speedlimit', '685': 'speedlimit', '686': 'speedlimit', '687': 'speedlimit', '688': 'speedlimit', '689': 'speedlimit', '69': 'stop', '690': 'speedlimit', '691': 'speedlimit', '692': 'speedlimit', '693': 'speedlimit', '694': 'speedlimit', '695': 'speedlimit', '696': 'speedlimit', '697': 'speedlimit', '698': 'speedlimit', '699': 'speedlimit', '7': 'trafficlight', '70': 'stop', '700': 'speedlimit', '701': 'speedlimit', '702': 'speedlimit', '703': 'speedlimit', '704': 'speedlimit', '705': 'speedlimit', '706': 'speedlimit', '707': 'speedlimit', '708': 'speedlimit', '709': 'speedlimit', '71': 'stop', '710': 'speedlimit', '711': 'speedlimit', '712': 'speedlimit', '713': 'speedlimit', '714': 'speedlimit', '715': 'speedlimit', '716': 'speedlimit', '717': 'speedlimit', '718': 'speedlimit', '719': 'speedlimit', '72': 'stop', '720': 'speedlimit', '721': 'speedlimit', '722': 'speedlimit', '723': 'speedlimit', '724': 'speedlimit', '725': 'speedlimit', '726': 'speedlimit', '727': 'speedlimit', '728': 'speedlimit', '729': 'speedlimit', '73': 'stop', '730': 'speedlimit', '731': 'speedlimit', '732': 'speedlimit', '733': 'speedlimit', '734': 'speedlimit', '735': 'speedlimit', '736': 'speedlimit', '737': 'speedlimit', '738': 'speedlimit', '739': 'speedlimit', '74': 'stop', '740': 'speedlimit', '741': 'speedlimit', '742': 'speedlimit', '743': 'speedlimit', '744': 'speedlimit', '745': 'speedlimit', '746': 'speedlimit', '747': 'speedlimit', '748': 'speedlimit', '749': 'speedlimit', '75': 'stop', '750': 'speedlimit', '751': 'speedlimit', '752': 'speedlimit', '753': 'speedlimit', '754': 'speedlimit', '755': 'speedlimit', '756': 'speedlimit', '757': 'speedlimit', '758': 'speedlimit', '759': 'speedlimit', '76': 'stop', '760': 'speedlimit', '761': 'speedlimit', '762': 'speedlimit', '763': 'speedlimit', '764': 'speedlimit', '765': 'speedlimit', '766': 'speedlimit', '767': 'speedlimit', '768': 'speedlimit', '769': 'speedlimit', '77': 'stop', '770': 'speedlimit', '771': 'speedlimit', '772': 'speedlimit', '773': 'speedlimit', '774': 'speedlimit', '775': 'speedlimit', '776': 'speedlimit', '777': 'speedlimit', '778': 'speedlimit', '779': 'speedlimit', '78': 'stop', '780': 'speedlimit', '781': 'speedlimit', '782': 'crosswalk', '783': 'speedlimit', '784': 'speedlimit', '785': 'speedlimit', '786': 'speedlimit', '787': 'speedlimit', '788': 'speedlimit', '789': 'speedlimit', '79': 'stop', '790': 'speedlimit', '791': 'speedlimit', '792': 'speedlimit', '793': 'speedlimit', '794': 'speedlimit', '795': 'speedlimit', '796': 'speedlimit', '797': 'speedlimit', '798': 'speedlimit', '799': 'speedlimit', '8': 'trafficlight', '80': 'stop', '800': 'speedlimit', '801': 'speedlimit', '802': 'speedlimit', '803': 'speedlimit', '804': 'speedlimit', '805': 'speedlimit', '806': 'speedlimit', '807': 'speedlimit', '808': 'speedlimit', '809': 'speedlimit', '81': 'stop', '810': 'speedlimit', '811': 'speedlimit', '812': 'speedlimit', '813': 'speedlimit', '814': 'speedlimit', '815': 'speedlimit', '816': 'speedlimit', '817': 'speedlimit', '818': 'speedlimit', '819': 'stop', '82': 'stop', '820': 'trafficlight', '821': 'stop', '822': 'trafficlight', '823': 'stop', '824': 'stop', '825': 'trafficlight', '826': 'crosswalk', '827': 'speedlimit', '828': 'speedlimit', '829': 'speedlimit', '83': 'stop', '830': 'speedlimit', '831': 'speedlimit', '832': 'speedlimit', '833': 'speedlimit', '834': 'speedlimit', '835': 'speedlimit', '836': 'speedlimit', '837': 'speedlimit', '838': 'speedlimit', '839': 'speedlimit', '84': 'stop', '840': 'speedlimit', '841': 'speedlimit', '842': 'speedlimit', '843': 'speedlimit', '844': 'speedlimit', '845': 'speedlimit', '846': 'trafficlight', '847': 'speedlimit', '848': 'speedlimit', '849': 'speedlimit', '85': 'stop', '850': 'speedlimit', '851': 'speedlimit', '852': 'speedlimit', '853': 'speedlimit', '854': 'speedlimit', '855': 'speedlimit', '856': 'speedlimit', '857': 'speedlimit', '858': 'speedlimit', '859': 'speedlimit', '86': 'stop', '860': 'speedlimit', '861': 'speedlimit', '862': 'speedlimit', '863': 'speedlimit', '864': 'crosswalk', '865': 'speedlimit', '866': 'speedlimit', '867': 'speedlimit', '868': 'speedlimit', '869': 'speedlimit', '87': 'stop', '870': 'speedlimit', '871': 'speedlimit', '872': 'speedlimit', '873': 'speedlimit', '874': 'speedlimit', '875': 'speedlimit', '876': 'stop', '88': 'stop', '89': 'stop', '9': 'trafficlight', '90': 'stop', '91': 'stop', '92': 'stop', '93': 'stop', '94': 'stop', '95': 'stop', '96': 'stop', '97': 'stop', '98': 'stop', '99': 'stop'}\n"
     ]
    }
   ],
   "source": [
    "sign_types = []\n",
    "for entry in validation_dictionary:\n",
    "    if validation_dictionary[entry] not in sign_types:\n",
    "        sign_types.append(validation_dictionary[entry])\n",
    "print(sign_types)\n",
    "print(validation_dictionary)"
   ]
  },
  {
   "cell_type": "markdown",
   "metadata": {},
   "source": [
    "## Stop signs"
   ]
  },
  {
   "cell_type": "code",
   "execution_count": 35,
   "metadata": {},
   "outputs": [
    {
     "ename": "RuntimeError",
     "evalue": "dictionary changed size during iteration",
     "output_type": "error",
     "traceback": [
      "\u001b[1;31m---------------------------------------------------------------------------\u001b[0m",
      "\u001b[1;31mRuntimeError\u001b[0m                              Traceback (most recent call last)",
      "\u001b[1;32mc:\\Users\\coelh\\Desktop\\FEUP\\4ano2\\VC\\project\\notebook.ipynb Cell 7'\u001b[0m in \u001b[0;36m<cell line: 1>\u001b[1;34m()\u001b[0m\n\u001b[1;32m----> <a href='vscode-notebook-cell:/c%3A/Users/coelh/Desktop/FEUP/4ano2/VC/project/notebook.ipynb#ch0000006?line=0'>1</a>\u001b[0m \u001b[39mfor\u001b[39;00m entry \u001b[39min\u001b[39;00m validation_dictionary:\n\u001b[0;32m      <a href='vscode-notebook-cell:/c%3A/Users/coelh/Desktop/FEUP/4ano2/VC/project/notebook.ipynb#ch0000006?line=1'>2</a>\u001b[0m     \u001b[39mif\u001b[39;00m validation_dictionary[entry] \u001b[39m==\u001b[39m \u001b[39m'\u001b[39m\u001b[39mtrafficlight\u001b[39m\u001b[39m'\u001b[39m:\n\u001b[0;32m      <a href='vscode-notebook-cell:/c%3A/Users/coelh/Desktop/FEUP/4ano2/VC/project/notebook.ipynb#ch0000006?line=2'>3</a>\u001b[0m         \u001b[39mdel\u001b[39;00m validation_dictionary[entry]\n",
      "\u001b[1;31mRuntimeError\u001b[0m: dictionary changed size during iteration"
     ]
    }
   ],
   "source": []
  }
 ],
 "metadata": {
  "interpreter": {
   "hash": "2be5faf79681da6f2a61fdfdd5405d65d042280f7fba6178067603e3a2925119"
  },
  "kernelspec": {
   "display_name": "Python 3.10.1 64-bit",
   "language": "python",
   "name": "python3"
  },
  "language_info": {
   "codemirror_mode": {
    "name": "ipython",
    "version": 3
   },
   "file_extension": ".py",
   "mimetype": "text/x-python",
   "name": "python",
   "nbconvert_exporter": "python",
   "pygments_lexer": "ipython3",
   "version": "3.10.1"
  },
  "orig_nbformat": 4
 },
 "nbformat": 4,
 "nbformat_minor": 2
}
