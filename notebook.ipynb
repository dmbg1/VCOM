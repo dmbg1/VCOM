{
 "cells": [
  {
   "cell_type": "markdown",
   "metadata": {},
   "source": [
    "# Classifying Traffic Signs with OpenCV\n",
    "\n",
    "For this project we will be trying split the traffic sign dataset into 3 separate classes:\n",
    "- Stop signs\n",
    "- Red Circles\n",
    "- Blue rectangles/squares "
   ]
  },
  {
   "cell_type": "markdown",
   "metadata": {},
   "source": [
    "### Imports"
   ]
  },
  {
   "cell_type": "code",
   "execution_count": 1,
   "metadata": {},
   "outputs": [],
   "source": [
    "import cv2 as cv\n",
    "import numpy as np\n",
    "import os, os.path\n",
    "import shutil\n",
    "from ImageList import ImageList\n",
    "from Image import Image"
   ]
  },
  {
   "cell_type": "code",
   "execution_count": 324,
   "metadata": {},
   "outputs": [],
   "source": [
    "# Results directories reset\n",
    "shutil.rmtree('results/blue_squares')\n",
    "shutil.rmtree('results/red_circles')\n",
    "shutil.rmtree('results/stop_signs')\n",
    "shutil.rmtree('results/unknowns')\n",
    "os.mkdir('results/blue_squares')\n",
    "os.mkdir('results/red_circles')\n",
    "os.mkdir('results/stop_signs')\n",
    "os.mkdir('results/unknowns')"
   ]
  },
  {
   "cell_type": "markdown",
   "metadata": {},
   "source": [
    "### Useful functions"
   ]
  },
  {
   "cell_type": "markdown",
   "metadata": {},
   "source": [
    "This function reads the images from the dataset and transfers them to a python list removing possible duplicates."
   ]
  },
  {
   "cell_type": "code",
   "execution_count": 325,
   "metadata": {},
   "outputs": [],
   "source": [
    "def get_image_list():\n",
    "    # Saves images into a list containing objects of class Image which contains traffic sign info \n",
    "    image_list = ImageList() \n",
    "    for root, _, files in os.walk('./dataset'):\n",
    "        for file in files:\n",
    "            split_file_path = os.path.join(root, file).split(os.sep)\n",
    "            img_name = split_file_path[-1]\n",
    "            _type = split_file_path[-2][:-1]\n",
    "            # Prevent image duplicates\n",
    "            idx = image_list.contains_img(img_name)\n",
    "            if idx >= 0:\n",
    "                image = image_list.get_image(idx)\n",
    "                image.add_type(_type)\n",
    "            else:\n",
    "                image = Image(img_name, _type)\n",
    "                image_list.add_image(image)\n",
    "    \n",
    "    return image_list"
   ]
  },
  {
   "cell_type": "markdown",
   "metadata": {},
   "source": [
    "The following function takes a gray level picture (segmented_img) and applies several transformations to improve the chances of a sign being detected.\n",
    "\n",
    "Operations performed:\n",
    " - Smoothing\n",
    " - Morphological closing (dilation followed by erosion) with a 5x5 kernel (to blue signs)\n",
    " - Canny edge detector (to blue signs)\n",
    "\n",
    "After this contours are searched that may match a blue square or a stop sign. If a contour with more than 8 edges is found then we verify if it is a circle.\n",
    "\n",
    "This returns the final picture with the contours and the predictions."
   ]
  },
  {
   "cell_type": "code",
   "execution_count": 326,
   "metadata": {},
   "outputs": [],
   "source": [
    "def process_image(segmented_img, original_img, color):\n",
    "    segmented_img = smooth(segmented_img)\n",
    "    \n",
    "    if color == \"blue\":\n",
    "        kernel = np.ones((5,5), np.uint8)\n",
    "        segmented_img = cv.dilate(segmented_img, kernel, iterations=3)\n",
    "        segmented_img = cv.erode(segmented_img, kernel, iterations=3)\n",
    "        segmented_img = cv.Canny(segmented_img, 150, 200) \n",
    "\n",
    "    final, prediction = search_contours(segmented_img, original_img.copy(), color)\n",
    "    \n",
    "    if type(prediction) != str: # Prediction is returned as a number if found contour has more than 8 edges\n",
    "        final, prediction = find_circles(segmented_img, original_img.copy(), int(prediction))\n",
    "        \n",
    "    return final, prediction"
   ]
  },
  {
   "cell_type": "markdown",
   "metadata": {},
   "source": [
    "For image smoothing we use a bilateral filter"
   ]
  },
  {
   "cell_type": "code",
   "execution_count": 327,
   "metadata": {},
   "outputs": [],
   "source": [
    "# Remove image noise with bilateral filter (better at preserving edges)\n",
    "def smooth(img):\n",
    "    return cv.bilateralFilter(img, 5, 75, 75)"
   ]
  },
  {
   "cell_type": "markdown",
   "metadata": {},
   "source": [
    "The following function increases the brightness of the provided image so that colors can be better identified. Isn't used in pipeline because of worse results"
   ]
  },
  {
   "cell_type": "code",
   "execution_count": 328,
   "metadata": {},
   "outputs": [],
   "source": [
    "# Increases image brightness\n",
    "def increase_brightness(img, value=30):\n",
    "    hsv = cv.cvtColor(img, cv.COLOR_BGR2HSV)\n",
    "    h, s, v = cv.split(hsv)\n",
    "\n",
    "    lim = 255 - value\n",
    "    v[v > lim] = 255\n",
    "    v[v <= lim] += value\n",
    "\n",
    "    final_hsv = cv.merge((h, s, v))\n",
    "    img = cv.cvtColor(final_hsv, cv.COLOR_HSV2BGR)\n",
    "    return img"
   ]
  },
  {
   "cell_type": "markdown",
   "metadata": {},
   "source": [
    "The segment function looks for the color specified in the argument and creates a black and white mask with the pixels of the desired color set to white.\n",
    "\n",
    "Red is found at both ends of the HSV hue spectrum so two masks are needed for the red color."
   ]
  },
  {
   "cell_type": "code",
   "execution_count": 329,
   "metadata": {},
   "outputs": [],
   "source": [
    "#  Segments reds and blues of an image\n",
    "def segment(img, color):\n",
    "    img_hsv = cv.cvtColor(img, cv.COLOR_BGR2HSV)\n",
    "    if color == 'red':\n",
    "        # lower mask (0-10)\n",
    "        lower_red = np.array([0,90,50])\n",
    "        upper_red = np.array([10,255,255])\n",
    "        mask0 = cv.inRange(img_hsv, lower_red, upper_red)  \n",
    "\n",
    "        # upper mask (160-180)\n",
    "        lower_red = np.array([160,90,50])\n",
    "        upper_red = np.array([180,255,255])\n",
    "        mask1 = cv.inRange(img_hsv, lower_red, upper_red)\n",
    "\n",
    "        mask = mask0 | mask1\n",
    "    elif color == 'blue':\n",
    "        lower_blue = np.array([90,140,50])\n",
    "        upper_blue = np.array([130,255,255])\n",
    "        mask = cv.inRange(img_hsv, lower_blue, upper_blue) \n",
    "\n",
    "    segmented_img = cv.bitwise_and(img_hsv, img_hsv, mask = mask)\n",
    "    segmented_img = cv.cvtColor(segmented_img, cv.COLOR_BGR2GRAY)\n",
    "    return segmented_img    \n"
   ]
  },
  {
   "cell_type": "markdown",
   "metadata": {},
   "source": [
    "This function finds the largest contour in a black and white image. It detects and draws the contours if they match the specified criteria, minimum area, minimum perimeter and maximum perimeter."
   ]
  },
  {
   "cell_type": "code",
   "execution_count": 330,
   "metadata": {},
   "outputs": [],
   "source": [
    "# Find the contour with the largest area in a gray scale image\n",
    "def find_largest_contour(segmented_img, original_img):\n",
    "    contours, _ = cv.findContours(segmented_img,2,1)\n",
    "    big_contour = []\n",
    "    max = 0\n",
    "    for i in contours:\n",
    "        area = cv.contourArea(i)\n",
    "        if(area > max):\n",
    "            max = area\n",
    "            big_contour = i \n",
    "    if max > 1000 and len(big_contour) > 10 and len(big_contour) < 1200:\n",
    "        final = cv.drawContours(original_img, big_contour, -1, (0,255,0), 3)\n",
    "    else:\n",
    "        final = original_img\n",
    "\n",
    "    return final, big_contour"
   ]
  },
  {
   "cell_type": "markdown",
   "metadata": {},
   "source": [
    "The following function verifies if the segmented image has any white pixels, calls the find_largest_contour function and processes the return.\n",
    "\n",
    "It counts the number of edges found on the segmented image classifies the sign according to it."
   ]
  },
  {
   "cell_type": "code",
   "execution_count": 331,
   "metadata": {},
   "outputs": [],
   "source": [
    "# Find a blue square\n",
    "def search_contours(segmented_img, original_img, color):\n",
    "    if cv.countNonZero(segmented_img) == 0:\n",
    "        return original_img, 'unrecognised'\n",
    "    final, contour = find_largest_contour(segmented_img, original_img)\n",
    "    if len(contour) > 100:\n",
    "        peri = cv.arcLength(contour, True)\n",
    "        approx = cv.approxPolyDP(contour, 0.01 * peri, True)\n",
    "        if len(approx) > 8: # circle possibly\n",
    "            return final, cv.contourArea(contour)\n",
    "        return final, classify_sign(approx, color)\n",
    "\n",
    "    return final, 'unrecognised'"
   ]
  },
  {
   "cell_type": "markdown",
   "metadata": {},
   "source": [
    "Classifies the sign according to the number of edges present"
   ]
  },
  {
   "cell_type": "code",
   "execution_count": 332,
   "metadata": {},
   "outputs": [],
   "source": [
    "def classify_sign(approx_cnt, color):\n",
    "    if color == 'blue':\n",
    "        if len(approx_cnt) == 4:\n",
    "            return 'blue_square'\n",
    "    elif color == 'red':\n",
    "        if len(approx_cnt) == 8:\n",
    "            return 'stop_sign'\n",
    "    return 'unrecognised'"
   ]
  },
  {
   "cell_type": "markdown",
   "metadata": {},
   "source": [
    "The following function applies further processing and attempts to find circles in the picture."
   ]
  },
  {
   "cell_type": "code",
   "execution_count": 333,
   "metadata": {},
   "outputs": [],
   "source": [
    "def find_circles(img, original_img, radius):\n",
    "    # Reduce white noise and enhance shapes\n",
    "    kernel = np.ones((3, 3), np.uint8)\n",
    "    img = cv.dilate(img, kernel, iterations = 3)\n",
    "    img = cv.erode(img, kernel, iterations = 3)\n",
    "    #Tolerance\n",
    "    tol = 1\n",
    "    circles = cv.HoughCircles(img, cv.HOUGH_GRADIENT, 1, radius * 2 - tol, param1=100, param2=45, minRadius=5, maxRadius=radius + tol)\n",
    "\n",
    "    if circles is not None:\n",
    "        circles = np.uint16(np.around(circles))\n",
    "\n",
    "        for i in circles[0, :]:\n",
    "            center = (i[0], i[1])\n",
    "            r = i[2]\n",
    "            cv.circle(original_img, center, r, (0, 255, 0), 2)\n",
    "        return original_img, 'red_circle'\n",
    "    else:\n",
    "        return original_img, 'unrecognised'\n"
   ]
  },
  {
   "cell_type": "markdown",
   "metadata": {},
   "source": [
    "#### Paths and image list"
   ]
  },
  {
   "cell_type": "code",
   "execution_count": 334,
   "metadata": {},
   "outputs": [],
   "source": [
    "dataset_path = 'dataset'\n",
    "results_path = 'results'\n",
    "\n",
    "# Image List\n",
    "img_list = get_image_list()"
   ]
  },
  {
   "cell_type": "markdown",
   "metadata": {},
   "source": [
    "### Smoothing applied in different solutions"
   ]
  },
  {
   "cell_type": "markdown",
   "metadata": {},
   "source": [
    "In order to reduce the amount of unrecognised traffic signs in the dataset images we tried to increase images smoothing until the results started getting worse. Thats why the \"amount\" of smoothing done in original images for blue segmented image processing is higher than the \"amount\" used in original images for red segmented images. "
   ]
  },
  {
   "cell_type": "markdown",
   "metadata": {},
   "source": [
    "Different amount of bilateral (filter) smoothing was applied in original images before segmenting "
   ]
  },
  {
   "cell_type": "code",
   "execution_count": 335,
   "metadata": {},
   "outputs": [],
   "source": [
    "# Counters\n",
    "cnt_un1 = 0    # Counter for the amount of images unrecognised prior to using more smoothing if it is unrecognised\n",
    "cnt_un2 = 0      # Counter for the amount of images unrecognised after using more smoothing\n",
    "\n",
    "# Image Lists \n",
    "img_list1 = img_list.copy() # Image list for low amount of smoothing\n",
    "img_list2 =  img_list.copy() # Image list for higher amount of smoothing"
   ]
  },
  {
   "cell_type": "code",
   "execution_count": 336,
   "metadata": {},
   "outputs": [],
   "source": [
    "inp = 0\n",
    "while inp <= 0 or inp > 3:\n",
    "    inp = int(input('Select solution to be written to the results directory (1- Normal Smoothing; 2- High Smoothing): '))"
   ]
  },
  {
   "cell_type": "markdown",
   "metadata": {},
   "source": [
    "#### Normal amount"
   ]
  },
  {
   "cell_type": "markdown",
   "metadata": {},
   "source": [
    "Smoothing only applied once in original image and then on the segmented one inside process_image function"
   ]
  },
  {
   "cell_type": "code",
   "execution_count": 337,
   "metadata": {},
   "outputs": [],
   "source": [
    "for i in range(0, img_list1.len()):\n",
    "    # Get img object from img_list\n",
    "    img_obj = img_list1.get_image(i)\n",
    "    \n",
    "    # Get path of that image -> {type(qualquer um serve)}/{filename}\n",
    "    img_path = img_obj.types[0] + 's' + os.sep + img_obj.filename\n",
    "\n",
    "    # Image in the dataset path\n",
    "    img_path_in_dataset = dataset_path + os.sep + img_path\n",
    "\n",
    "    # Read img\n",
    "    img = cv.imread(img_path_in_dataset)\n",
    "\n",
    "    # Keep an original copy\n",
    "    original = img.copy()\n",
    "\n",
    "    # Smooth image\n",
    "    img = smooth(img)\n",
    "\n",
    "    # Segment it by filtering the blue and red color for blue and red signs\n",
    "    img_blue, img_red = segment(img, 'blue'), segment(img, 'red')\n",
    "\n",
    "    # Variable to check if any sign is already detected for it not to be classified as unrecognised in that case\n",
    "    sign_detected = False\n",
    "\n",
    "    # Process blue segmented img\n",
    "    final, classification = process_image(img_blue.copy(), img.copy(), 'blue')\n",
    "\n",
    "    if classification == 'blue_square':\n",
    "        img_obj.add_classification(classification)\n",
    "        if inp == 1:\n",
    "            cv.imwrite(os.path.join(results_path, classification +\n",
    "                                    's', img_obj.filename), final)\n",
    "        sign_detected = True\n",
    "\n",
    "    final, classification = process_image(img_red.copy(), img.copy(), 'red')\n",
    "\n",
    "    if classification == 'stop_sign' or classification == 'red_circle':\n",
    "        img_obj.add_classification(classification)\n",
    "        if inp == 1:\n",
    "            cv.imwrite(os.path.join(\n",
    "                results_path, classification + 's', img_obj.filename), final)\n",
    "        sign_detected = True\n",
    "\n",
    "    if sign_detected == False:\n",
    "        cnt_un1 += 1\n",
    "        img_obj.add_classification(classification)\n",
    "        if inp == 1:\n",
    "            cv.imwrite(os.path.join(\n",
    "                results_path, 'unknowns', img_obj.filename), final)"
   ]
  },
  {
   "cell_type": "markdown",
   "metadata": {},
   "source": [
    "#### Higher amount"
   ]
  },
  {
   "cell_type": "markdown",
   "metadata": {},
   "source": [
    "Smoothing applied more times in original image if normal smoothing didn't detect any traffic signs"
   ]
  },
  {
   "cell_type": "code",
   "execution_count": 338,
   "metadata": {},
   "outputs": [],
   "source": [
    "for i in range(0, img_list2.len()):\n",
    "    # Get img object from img_list\n",
    "    img_obj = img_list2.get_image(i)\n",
    "\n",
    "    # Get path of that image -> {type(qualquer um serve)}/{filename}\n",
    "    img_path = img_obj.types[0] + 's' + os.sep + img_obj.filename\n",
    "\n",
    "    # Image in the dataset path\n",
    "    img_path_in_dataset = dataset_path + os.sep + img_path\n",
    "\n",
    "    # Read img\n",
    "    img = cv.imread(img_path_in_dataset)\n",
    "\n",
    "    # Keep an original copy\n",
    "    original = img.copy()\n",
    "\n",
    "    # Smooth image\n",
    "    img = smooth(img)\n",
    "\n",
    "    # Segment it by filtering the blue and red color for blue and red signs\n",
    "    img_blue, img_red = segment(img, 'blue'), segment(img, 'red')\n",
    "\n",
    "    # Variable to check if any sign is already detected for it not to be classified as unrecognised in that case\n",
    "    sign_detected = False\n",
    "\n",
    "    # Process blue segmented img\n",
    "    final, classification = process_image(img_blue.copy(), img.copy(), 'blue')\n",
    "\n",
    "    # Process first iteration result\n",
    "    if classification == 'blue_square':\n",
    "        img_obj.add_classification(classification)\n",
    "        if inp == 2:\n",
    "            cv.imwrite(os.path.join(results_path, classification +\n",
    "                                    's', img_obj.filename), final)\n",
    "        sign_detected = True\n",
    "    elif classification == 'unrecognised':  # if no sign detected do more smoothing\n",
    "        temp = smooth(smooth(smooth(img_blue)))\n",
    "        final, classification = process_image(temp, img.copy(), 'blue')\n",
    "        if classification == 'blue_square':\n",
    "            img_obj.add_classification(classification)\n",
    "            if inp == 2:\n",
    "                cv.imwrite(os.path.join(results_path, classification +\n",
    "                                        's', img_obj.filename), final)\n",
    "            sign_detected = True\n",
    "\n",
    "    # Process red segmented img\n",
    "    final, classification = process_image(img_red.copy(), img.copy(), 'red')\n",
    "\n",
    "    # Process first iteration result\n",
    "    if classification == 'stop_sign' or classification == 'red_circle':\n",
    "        img_obj.add_classification(classification)\n",
    "        if inp == 2:\n",
    "            cv.imwrite(os.path.join(\n",
    "                results_path, classification + 's', img_obj.filename), final)\n",
    "        sign_detected = True\n",
    "    elif classification == 'unrecognised':  # if no sign detected do more smoothing\n",
    "        temp = smooth(img_red)\n",
    "        final, classification = process_image(temp, img.copy(), 'red')\n",
    "        if classification == 'stop_sign' or classification == 'red_circle':\n",
    "            img_obj.add_classification(classification)\n",
    "            if inp == 2:\n",
    "                cv.imwrite(os.path.join(results_path, classification +\n",
    "                                        's', img_obj.filename), final)\n",
    "            sign_detected = True\n",
    "\n",
    "    if sign_detected == False:\n",
    "        cnt_un2 += 1\n",
    "        img_obj.add_classification(classification)\n",
    "        if inp == 2:\n",
    "            cv.imwrite(os.path.join(\n",
    "                results_path, 'unknowns', img_obj.filename), final)\n"
   ]
  },
  {
   "cell_type": "markdown",
   "metadata": {},
   "source": [
    "Amount of unknowns (no traffic signs detected) and accuracy for each traffic sign type. This accuracy is calculated in a method of the ImageList class by dividing the amount of correct classifications by the amount expected."
   ]
  },
  {
   "cell_type": "code",
   "execution_count": 339,
   "metadata": {},
   "outputs": [
    {
     "name": "stdout",
     "output_type": "stream",
     "text": [
      "==========No Traffic Signs Detected==========\n",
      "Normal amount of smoothing: 62\n",
      "Higher amount of smoothing: 49\n",
      "==========Detection Accuracy for Red Circles==========\n",
      "Normal amount of smoothing: 40.0\n",
      "Higher amount of smoothing: 52.0\n",
      "==========Detection Accuracy for Blue Squares==========\n",
      "Normal amount of smoothing: 47.05882352941177\n",
      "Higher amount of smoothing: 52.94117647058823\n",
      "==========Detection Accuracy for Stop Signs==========\n",
      "Normal amount of smoothing: 66.66666666666667\n",
      "Higher amount of smoothing: 68.62745098039215\n"
     ]
    }
   ],
   "source": [
    "print('==========No Traffic Signs Detected==========')\n",
    "print('Normal amount of smoothing: ' + str(cnt_un1))\n",
    "print('Higher amount of smoothing: ' + str(cnt_un2))\n",
    "print('==========Detection Accuracy for Red Circles==========')\n",
    "print('Normal amount of smoothing: ' + str(img_list1.evaluate_classification_accuracy('red_circle')))\n",
    "print('Higher amount of smoothing: ' + str(img_list2.evaluate_classification_accuracy('red_circle')))\n",
    "print('==========Detection Accuracy for Blue Squares==========')\n",
    "print('Normal amount of smoothing: ' + str(img_list1.evaluate_classification_accuracy('blue_square')))\n",
    "print('Higher amount of smoothing: ' + str(img_list2.evaluate_classification_accuracy('blue_square')))\n",
    "print('==========Detection Accuracy for Stop Signs==========')\n",
    "print('Normal amount of smoothing: ' + str(img_list1.evaluate_classification_accuracy('stop_sign')))\n",
    "print('Higher amount of smoothing: ' + str(img_list2.evaluate_classification_accuracy('stop_sign')))"
   ]
  },
  {
   "cell_type": "markdown",
   "metadata": {},
   "source": [
    "#### Pipeline Example (using a image with a red circle sign)"
   ]
  },
  {
   "cell_type": "code",
   "execution_count": null,
   "metadata": {},
   "outputs": [],
   "source": [
    "img_path= os.path.join()\n",
    "img =cv.imread(img_path)\n",
    "cv.imshow(\"original\",img)\n",
    "\n",
    "img=smooth(img)\n",
    "cv.imshow(\"first smooth result\",img)\n",
    "\n",
    "img_red=segment(img,'red')\n",
    "cv.imshow(\"red filter applied\",img_red)\n",
    "\n",
    "final, classification = process_image(img_red.copy(), img.copy(), 'red')\n",
    "if classification == 'stop_sign' or classification == 'red_circle':\n",
    "    cv.imshow(\"final classified image(red circle)\",final)\n",
    "elif classification=='unrecognised':\n",
    "    cv.imshow(\"second smooth result\",final)\n",
    "    temp=smooth(img_red)\n",
    "    final, classification = process_image(temp, img.copy(), 'red')\n",
    "    cv.imshow(\"final classified image after further smoothing(red circle)\",final)\n",
    "\n",
    "\n",
    "cv.waitKey(0)\n",
    "cv.destroyAllWindows()"
   ]
  }
 ],
 "metadata": {
  "interpreter": {
   "hash": "2be5faf79681da6f2a61fdfdd5405d65d042280f7fba6178067603e3a2925119"
  },
  "kernelspec": {
   "display_name": "Python 3.10.1 64-bit",
   "language": "python",
   "name": "python3"
  },
  "language_info": {
   "codemirror_mode": {
    "name": "ipython",
    "version": 3
   },
   "file_extension": ".py",
   "mimetype": "text/x-python",
   "name": "python",
   "nbconvert_exporter": "python",
   "pygments_lexer": "ipython3",
   "version": "3.10.0"
  },
  "orig_nbformat": 4
 },
 "nbformat": 4,
 "nbformat_minor": 2
}
