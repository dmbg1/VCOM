{
 "cells": [
  {
   "cell_type": "markdown",
   "metadata": {},
   "source": [
    "# Classifying Traffic Signs with OpenCV\n",
    "\n",
    "For this project we will be trying split the traffic sign dataset into 3 separate classes:\n",
    "- Stop signs\n",
    "- Red Circles\n",
    "- Blue rectangles/squares "
   ]
  },
  {
   "cell_type": "markdown",
   "metadata": {},
   "source": [
    "### Imports"
   ]
  },
  {
   "cell_type": "code",
   "execution_count": 8,
   "metadata": {},
   "outputs": [],
   "source": [
    "import cv2 as cv\n",
    "import numpy as np\n",
    "import os, os.path\n",
    "import xml.etree.ElementTree as ET\n",
    "from matplotlib import pyplot as plt"
   ]
  },
  {
   "cell_type": "markdown",
   "metadata": {},
   "source": [
    "### Useful functions"
   ]
  },
  {
   "cell_type": "code",
   "execution_count": 8,
   "metadata": {},
   "outputs": [],
   "source": [
    "# Convert image color model to hsv\n",
    "def cvt_color_to_hsv(img):\n",
    "    img = cv.cvtColor(img, cv.COLOR_BGR2HSV)\n",
    "\n",
    "# Remove image noise with gaussian blur (better at preserving edges)\n",
    "def remove_noise(img):\n",
    "    img = cv.GaussianBlur(img, 3)\n",
    "\n",
    "# Add contrast to image by histogram equalization\n",
    "def add_contrast(img):\n",
    "    img = cv.equalizeHist(img)\n",
    "\n",
    "# Filter reds in image using a mask by converting colors different than red black\n",
    "def filter_red(img):\n",
    "    # lower mask (0-10)\n",
    "    lower_red = np.array([0,70,50])\n",
    "    upper_red = np.array([10,255,255])\n",
    "    mask0 = cv.inRange(img, lower_red, upper_red)  \n",
    "\n",
    "    # upper mask (170-180)\n",
    "    lower_red = np.array([170,70,50])\n",
    "    upper_red = np.array([180,255,255])\n",
    "    mask1 = cv.inRange(img, lower_red, upper_red)\n",
    "\n",
    "    mask = mask0 + mask1\n",
    "\n",
    "    img_aux = img.copy()\n",
    "\n",
    "    img_aux[np.where(mask == 0)] = 0\n",
    "\n",
    "    return img_aux\n",
    "\n",
    "# Filter blues in image using a mask by converting colors different than blue black\n",
    "def filter_blue(img):\n",
    "    lower_blue = np.array([110,50,50])\n",
    "    upper_blue = np.array([130,255,255])\n",
    "    mask = cv.inRange(img, lower_blue, upper_blue)  \n",
    "\n",
    "    img_aux = img.copy()\n",
    "\n",
    "    img_aux[np.where(mask == 0)] = 0\n",
    "\n",
    "    return img_aux"
   ]
  },
  {
   "cell_type": "markdown",
   "metadata": {},
   "source": [
    "## Blue squares"
   ]
  },
  {
   "cell_type": "code",
   "execution_count": 20,
   "metadata": {},
   "outputs": [],
   "source": [
    "blue_data_dir='./Dataset/blue_squares'\n",
    "img = cv.imread(os.path.join(blue_data_dir,'road123.png'))\n",
    "#billateral filtering\n",
    "imgWithMeanFilter = cv.bilateralFilter(img, 15, 75, 75)\n",
    "\n",
    "#histogram equalization\n",
    "R, G, B = cv.split(imgWithMeanFilter)\n",
    "output1_R = cv.equalizeHist(R)\n",
    "output1_G = cv.equalizeHist(G)\n",
    "output1_B = cv.equalizeHist(B)\n",
    "equ = cv.merge((output1_R, output1_G, output1_B))\n",
    "\n",
    "\n",
    "\n",
    "cv.imshow(\"original\", img)\n",
    "cv.imshow(\"filtered\", equ)\n",
    "cv.waitKey(0)\n",
    "cv.destroyAllWindows()\n"
   ]
  },
  {
   "cell_type": "markdown",
   "metadata": {},
   "source": [
    "## Stop signs"
   ]
  },
  {
   "cell_type": "code",
   "execution_count": 9,
   "metadata": {},
   "outputs": [
    {
     "ename": "KeyboardInterrupt",
     "evalue": "",
     "output_type": "error",
     "traceback": [
      "\u001b[1;31m---------------------------------------------------------------------------\u001b[0m",
      "\u001b[1;31mKeyboardInterrupt\u001b[0m                         Traceback (most recent call last)",
      "\u001b[1;32md:\\FEUP\\VC\\Project1\\VCOM\\notebook.ipynb Cell 7'\u001b[0m in \u001b[0;36m<cell line: 6>\u001b[1;34m()\u001b[0m\n\u001b[0;32m      <a href='vscode-notebook-cell:/d%3A/FEUP/VC/Project1/VCOM/notebook.ipynb#ch0000010?line=3'>4</a>\u001b[0m img2 \u001b[39m=\u001b[39m filter_red(img)\n\u001b[0;32m      <a href='vscode-notebook-cell:/d%3A/FEUP/VC/Project1/VCOM/notebook.ipynb#ch0000010?line=4'>5</a>\u001b[0m cv\u001b[39m.\u001b[39mimshow(\u001b[39m\"\u001b[39m\u001b[39mfiltered\u001b[39m\u001b[39m\"\u001b[39m, img2)\n\u001b[1;32m----> <a href='vscode-notebook-cell:/d%3A/FEUP/VC/Project1/VCOM/notebook.ipynb#ch0000010?line=5'>6</a>\u001b[0m cv\u001b[39m.\u001b[39;49mwaitKey(\u001b[39m0\u001b[39;49m)\n\u001b[0;32m      <a href='vscode-notebook-cell:/d%3A/FEUP/VC/Project1/VCOM/notebook.ipynb#ch0000010?line=6'>7</a>\u001b[0m cv\u001b[39m.\u001b[39mdestroyAllWindows()\n",
      "\u001b[1;31mKeyboardInterrupt\u001b[0m: "
     ]
    }
   ],
   "source": [
    "stop_data_dir = './Dataset/stop_signs'\n",
    "img = cv.imread(os.path.join(stop_data_dir, 'road52.png'))\n",
    "cv.imshow(\"original\", img)\n",
    "img2 = filter_red(img)\n",
    "cv.imshow(\"filtered\", img2)\n",
    "cv.waitKey(0)\n",
    "cv.destroyAllWindows()"
   ]
  },
  {
   "cell_type": "markdown",
   "metadata": {},
   "source": [
    "To start we need to collect all of the xml files and the corresponding png files so we can parse them.\n",
    "Our dataset has 877 pictures of traffic sings with 4 distinctions: 'trafficlight', 'speedlimit', 'crosswalk' and 'stop'."
   ]
  },
  {
   "cell_type": "code",
   "execution_count": null,
   "metadata": {},
   "outputs": [
    {
     "ename": "FileNotFoundError",
     "evalue": "[WinError 3] O sistema não conseguiu localizar o caminho especificado: './Dataset/annotations'",
     "output_type": "error",
     "traceback": [
      "\u001b[1;31m---------------------------------------------------------------------------\u001b[0m",
      "\u001b[1;31mFileNotFoundError\u001b[0m                         Traceback (most recent call last)",
      "\u001b[1;32md:\\FEUP\\VC\\Project1\\VCOM\\notebook.ipynb Cell 7'\u001b[0m in \u001b[0;36m<cell line: 1>\u001b[1;34m()\u001b[0m\n\u001b[1;32m----> <a href='vscode-notebook-cell:/d%3A/FEUP/VC/Project1/VCOM/notebook.ipynb#ch0000006?line=0'>1</a>\u001b[0m xml_files \u001b[39m=\u001b[39m [name \u001b[39mfor\u001b[39;00m name \u001b[39min\u001b[39;00m os\u001b[39m.\u001b[39;49mlistdir(\u001b[39m'\u001b[39;49m\u001b[39m./Dataset/annotations\u001b[39;49m\u001b[39m'\u001b[39;49m)]\n\u001b[0;32m      <a href='vscode-notebook-cell:/d%3A/FEUP/VC/Project1/VCOM/notebook.ipynb#ch0000006?line=1'>2</a>\u001b[0m validation_dictionary \u001b[39m=\u001b[39m {}\n\u001b[0;32m      <a href='vscode-notebook-cell:/d%3A/FEUP/VC/Project1/VCOM/notebook.ipynb#ch0000006?line=3'>4</a>\u001b[0m \u001b[39mfor\u001b[39;00m name \u001b[39min\u001b[39;00m xml_files:\n\u001b[0;32m      <a href='vscode-notebook-cell:/d%3A/FEUP/VC/Project1/VCOM/notebook.ipynb#ch0000006?line=4'>5</a>\u001b[0m     \u001b[39m# Parse the xml\u001b[39;00m\n",
      "\u001b[1;31mFileNotFoundError\u001b[0m: [WinError 3] O sistema não conseguiu localizar o caminho especificado: './Dataset/annotations'"
     ]
    }
   ],
   "source": [
    "xml_files = [name for name in os.listdir('./Dataset/annotations')]\n",
    "validation_dictionary = {}\n",
    "\n",
    "for name in xml_files:\n",
    "    # Parse the xml\n",
    "    mytree = ET.parse('./Dataset/annotations/' + name)\n",
    "    \n",
    "    # Get number from name\n",
    "    order = ''.join(i for i in name if i.isdigit())\n",
    "    \n",
    "    # Get sign type\n",
    "    validation_dictionary[order] = mytree.getroot().find('object').find('name').text\n",
    "    "
   ]
  },
  {
   "cell_type": "markdown",
   "metadata": {},
   "source": [
    "Our dataset has 877 pictures of traffic sings with 4 distinctions: 'trafficlight', 'speedlimit', 'crosswalk' and 'stop'."
   ]
  },
  {
   "cell_type": "code",
   "execution_count": null,
   "metadata": {},
   "outputs": [
    {
     "ename": "NameError",
     "evalue": "name 'validation_dictionary' is not defined",
     "output_type": "error",
     "traceback": [
      "\u001b[1;31m---------------------------------------------------------------------------\u001b[0m",
      "\u001b[1;31mNameError\u001b[0m                                 Traceback (most recent call last)",
      "\u001b[1;32md:\\FEUP\\VC\\Project1\\VCOM\\notebook.ipynb Cell 9'\u001b[0m in \u001b[0;36m<cell line: 2>\u001b[1;34m()\u001b[0m\n\u001b[0;32m      <a href='vscode-notebook-cell:/d%3A/FEUP/VC/Project1/VCOM/notebook.ipynb#ch0000008?line=0'>1</a>\u001b[0m sign_types \u001b[39m=\u001b[39m []\n\u001b[1;32m----> <a href='vscode-notebook-cell:/d%3A/FEUP/VC/Project1/VCOM/notebook.ipynb#ch0000008?line=1'>2</a>\u001b[0m \u001b[39mfor\u001b[39;00m entry \u001b[39min\u001b[39;00m validation_dictionary:\n\u001b[0;32m      <a href='vscode-notebook-cell:/d%3A/FEUP/VC/Project1/VCOM/notebook.ipynb#ch0000008?line=2'>3</a>\u001b[0m     \u001b[39mif\u001b[39;00m validation_dictionary[entry] \u001b[39mnot\u001b[39;00m \u001b[39min\u001b[39;00m sign_types:\n\u001b[0;32m      <a href='vscode-notebook-cell:/d%3A/FEUP/VC/Project1/VCOM/notebook.ipynb#ch0000008?line=3'>4</a>\u001b[0m         sign_types\u001b[39m.\u001b[39mappend(validation_dictionary[entry])\n",
      "\u001b[1;31mNameError\u001b[0m: name 'validation_dictionary' is not defined"
     ]
    }
   ],
   "source": [
    "sign_types = []\n",
    "for entry in validation_dictionary:\n",
    "    if validation_dictionary[entry] not in sign_types:\n",
    "        sign_types.append(validation_dictionary[entry])\n",
    "print(sign_types)\n",
    "print(validation_dictionary)"
   ]
  },
  {
   "cell_type": "code",
   "execution_count": null,
   "metadata": {},
   "outputs": [],
   "source": []
  }
 ],
 "metadata": {
  "interpreter": {
   "hash": "2be5faf79681da6f2a61fdfdd5405d65d042280f7fba6178067603e3a2925119"
  },
  "kernelspec": {
   "display_name": "Python 3.10.1 64-bit",
   "language": "python",
   "name": "python3"
  },
  "language_info": {
   "codemirror_mode": {
    "name": "ipython",
    "version": 3
   },
   "file_extension": ".py",
   "mimetype": "text/x-python",
   "name": "python",
   "nbconvert_exporter": "python",
   "pygments_lexer": "ipython3",
   "version": "3.10.0"
  },
  "orig_nbformat": 4
 },
 "nbformat": 4,
 "nbformat_minor": 2
}
